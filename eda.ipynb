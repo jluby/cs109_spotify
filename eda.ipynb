{
 "cells": [
  {
   "cell_type": "markdown",
   "metadata": {},
   "source": [
    "## Spotify Song-Album Popularity EDA\n",
    "\n",
    "This notebook performs exploratory data analysis on the Spotify data."
   ]
  },
  {
   "cell_type": "code",
   "execution_count": 2,
   "metadata": {},
   "outputs": [],
   "source": [
    "import numpy as np\n",
    "import pandas as pd\n",
    "from scipy.stats import ttest_ind\n",
    "pd.set_option('display.max_columns', 25)\n",
    "\n",
    "from sklearn.linear_model import LinearRegression\n",
    "from sklearn.linear_model import LogisticRegression\n",
    "from sklearn.linear_model import LogisticRegressionCV\n",
    "from sklearn.linear_model import LassoCV\n",
    "\n",
    "from sklearn.neighbors import KNeighborsClassifier\n",
    "from sklearn.model_selection import cross_val_score\n",
    "from sklearn.metrics import accuracy_score\n",
    "from sklearn.model_selection import KFold\n",
    "from sklearn.preprocessing import MinMaxScaler\n",
    "from sklearn.model_selection import train_test_split\n",
    "from sklearn.decomposition import PCA\n",
    "from sklearn import metrics\n",
    "\n",
    "from tqdm import tqdm_notebook\n",
    "\n",
    "import matplotlib\n",
    "import matplotlib.pyplot as plt\n",
    "%matplotlib inline\n",
    "\n",
    "import statsmodels.api as sm\n",
    "from statsmodels.api import OLS\n",
    "\n",
    "from sklearn.utils import resample\n",
    "from sklearn.tree import DecisionTreeClassifier\n",
    "from sklearn.ensemble import RandomForestClassifier\n",
    "from sklearn.ensemble import AdaBoostClassifier\n",
    "from collections import Counter\n",
    "\n",
    "import seaborn as sns\n",
    "sns.set(style='whitegrid')\n",
    "pd.set_option('display.width', 1500)\n",
    "pd.set_option('display.max_columns', 100)"
   ]
  },
  {
   "cell_type": "code",
   "execution_count": 3,
   "metadata": {},
   "outputs": [
    {
     "name": "stderr",
     "output_type": "stream",
     "text": [
      "/Users/hakeemangulu/anaconda3/lib/python3.7/site-packages/IPython/core/interactiveshell.py:3058: DtypeWarning: Columns (5,7,14,17) have mixed types. Specify dtype option on import or set low_memory=False.\n",
      "  interactivity=interactivity, compiler=compiler, result=result)\n"
     ]
    }
   ],
   "source": [
    "# Load data\n",
    "data = pd.read_csv('data/full_eda_data.csv')"
   ]
  },
  {
   "cell_type": "code",
   "execution_count": 4,
   "metadata": {},
   "outputs": [
    {
     "data": {
      "text/html": [
       "<div>\n",
       "<style scoped>\n",
       "    .dataframe tbody tr th:only-of-type {\n",
       "        vertical-align: middle;\n",
       "    }\n",
       "\n",
       "    .dataframe tbody tr th {\n",
       "        vertical-align: top;\n",
       "    }\n",
       "\n",
       "    .dataframe thead th {\n",
       "        text-align: right;\n",
       "    }\n",
       "</style>\n",
       "<table border=\"1\" class=\"dataframe\">\n",
       "  <thead>\n",
       "    <tr style=\"text-align: right;\">\n",
       "      <th></th>\n",
       "      <th>track_id</th>\n",
       "      <th>album_id</th>\n",
       "      <th>track_number</th>\n",
       "      <th>track_count</th>\n",
       "      <th>duration</th>\n",
       "      <th>explicit</th>\n",
       "      <th>track_pop</th>\n",
       "      <th>album_pop</th>\n",
       "      <th>comparative_pop</th>\n",
       "      <th>danceability</th>\n",
       "      <th>energy</th>\n",
       "      <th>loudness</th>\n",
       "      <th>speechiness</th>\n",
       "      <th>acousticness</th>\n",
       "      <th>instrumentalness</th>\n",
       "      <th>liveness</th>\n",
       "      <th>valence</th>\n",
       "      <th>tempo</th>\n",
       "    </tr>\n",
       "  </thead>\n",
       "  <tbody>\n",
       "    <tr>\n",
       "      <td>0</td>\n",
       "      <td>0UaMYEvWZi0ZqiDOoHU3YI</td>\n",
       "      <td>6vV5UrXcfyQD1wu4Qo2I9K</td>\n",
       "      <td>4</td>\n",
       "      <td>16.0</td>\n",
       "      <td>226863.0</td>\n",
       "      <td>TRUE</td>\n",
       "      <td>68.0</td>\n",
       "      <td>59</td>\n",
       "      <td>9.600000</td>\n",
       "      <td>0.904</td>\n",
       "      <td>0.813</td>\n",
       "      <td>-7.105</td>\n",
       "      <td>0.1210</td>\n",
       "      <td>0.03110</td>\n",
       "      <td>0.00697</td>\n",
       "      <td>0.0471</td>\n",
       "      <td>0.810</td>\n",
       "      <td>125.461</td>\n",
       "    </tr>\n",
       "    <tr>\n",
       "      <td>1</td>\n",
       "      <td>6I9VzXrHxO9rA9A5euc8Ak</td>\n",
       "      <td>0z7pVBGOD7HCIB7S8eLkLI</td>\n",
       "      <td>6</td>\n",
       "      <td>13.0</td>\n",
       "      <td>198800.0</td>\n",
       "      <td>FALSE</td>\n",
       "      <td>79.0</td>\n",
       "      <td>71</td>\n",
       "      <td>8.666667</td>\n",
       "      <td>0.774</td>\n",
       "      <td>0.838</td>\n",
       "      <td>-3.914</td>\n",
       "      <td>0.1140</td>\n",
       "      <td>0.02490</td>\n",
       "      <td>0.025</td>\n",
       "      <td>0.2420</td>\n",
       "      <td>0.924</td>\n",
       "      <td>143.04</td>\n",
       "    </tr>\n",
       "    <tr>\n",
       "      <td>2</td>\n",
       "      <td>0WqIKmW4BTrj3eJFmnCKMv</td>\n",
       "      <td>25hVFAxTlDvXbx2X2QkUkE</td>\n",
       "      <td>1</td>\n",
       "      <td>16.0</td>\n",
       "      <td>235933.0</td>\n",
       "      <td>FALSE</td>\n",
       "      <td>30.0</td>\n",
       "      <td>23</td>\n",
       "      <td>7.466667</td>\n",
       "      <td>0.664</td>\n",
       "      <td>0.758</td>\n",
       "      <td>-6.583</td>\n",
       "      <td>0.2100</td>\n",
       "      <td>0.00238</td>\n",
       "      <td>0</td>\n",
       "      <td>0.0598</td>\n",
       "      <td>0.701</td>\n",
       "      <td>99.259</td>\n",
       "    </tr>\n",
       "    <tr>\n",
       "      <td>3</td>\n",
       "      <td>1AWQoqb9bSvzTjaLralEkT</td>\n",
       "      <td>6QPkyl04rXwTGlGlcYaRoW</td>\n",
       "      <td>6</td>\n",
       "      <td>13.0</td>\n",
       "      <td>267266.0</td>\n",
       "      <td>FALSE</td>\n",
       "      <td>73.0</td>\n",
       "      <td>72</td>\n",
       "      <td>1.083333</td>\n",
       "      <td>0.891</td>\n",
       "      <td>0.714</td>\n",
       "      <td>-6.055</td>\n",
       "      <td>0.1400</td>\n",
       "      <td>0.20200</td>\n",
       "      <td>0.000234</td>\n",
       "      <td>0.0521</td>\n",
       "      <td>0.818</td>\n",
       "      <td>100.972</td>\n",
       "    </tr>\n",
       "    <tr>\n",
       "      <td>4</td>\n",
       "      <td>1lzr43nnXAijIGYnCT8M8H</td>\n",
       "      <td>6NmFmPX56pcLBOFMhIiKvF</td>\n",
       "      <td>3</td>\n",
       "      <td>15.0</td>\n",
       "      <td>227600.0</td>\n",
       "      <td>FALSE</td>\n",
       "      <td>16.0</td>\n",
       "      <td>10</td>\n",
       "      <td>6.428571</td>\n",
       "      <td>0.853</td>\n",
       "      <td>0.606</td>\n",
       "      <td>-4.596</td>\n",
       "      <td>0.0713</td>\n",
       "      <td>0.05610</td>\n",
       "      <td>0</td>\n",
       "      <td>0.3130</td>\n",
       "      <td>0.654</td>\n",
       "      <td>94.759</td>\n",
       "    </tr>\n",
       "  </tbody>\n",
       "</table>\n",
       "</div>"
      ],
      "text/plain": [
       "                 track_id                album_id  track_number  track_count  duration explicit  track_pop album_pop  comparative_pop  danceability  energy  loudness  speechiness  acousticness instrumentalness  liveness  valence    tempo\n",
       "0  0UaMYEvWZi0ZqiDOoHU3YI  6vV5UrXcfyQD1wu4Qo2I9K             4         16.0  226863.0     TRUE       68.0        59         9.600000         0.904   0.813    -7.105       0.1210       0.03110          0.00697    0.0471    0.810  125.461\n",
       "1  6I9VzXrHxO9rA9A5euc8Ak  0z7pVBGOD7HCIB7S8eLkLI             6         13.0  198800.0    FALSE       79.0        71         8.666667         0.774   0.838    -3.914       0.1140       0.02490            0.025    0.2420    0.924   143.04\n",
       "2  0WqIKmW4BTrj3eJFmnCKMv  25hVFAxTlDvXbx2X2QkUkE             1         16.0  235933.0    FALSE       30.0        23         7.466667         0.664   0.758    -6.583       0.2100       0.00238                0    0.0598    0.701   99.259\n",
       "3  1AWQoqb9bSvzTjaLralEkT  6QPkyl04rXwTGlGlcYaRoW             6         13.0  267266.0    FALSE       73.0        72         1.083333         0.891   0.714    -6.055       0.1400       0.20200         0.000234    0.0521    0.818  100.972\n",
       "4  1lzr43nnXAijIGYnCT8M8H  6NmFmPX56pcLBOFMhIiKvF             3         15.0  227600.0    FALSE       16.0        10         6.428571         0.853   0.606    -4.596       0.0713       0.05610                0    0.3130    0.654   94.759"
      ]
     },
     "execution_count": 4,
     "metadata": {},
     "output_type": "execute_result"
    }
   ],
   "source": [
    "data.head()"
   ]
  },
  {
   "cell_type": "code",
   "execution_count": 17,
   "metadata": {},
   "outputs": [
    {
     "data": {
      "text/plain": [
       "array([[<matplotlib.axes._subplots.AxesSubplot object at 0x1c1ffdf750>,\n",
       "        <matplotlib.axes._subplots.AxesSubplot object at 0x1c2002fbd0>,\n",
       "        <matplotlib.axes._subplots.AxesSubplot object at 0x1c200708d0>],\n",
       "       [<matplotlib.axes._subplots.AxesSubplot object at 0x1c200b9c10>,\n",
       "        <matplotlib.axes._subplots.AxesSubplot object at 0x1c200ed910>,\n",
       "        <matplotlib.axes._subplots.AxesSubplot object at 0x1c20125c50>],\n",
       "       [<matplotlib.axes._subplots.AxesSubplot object at 0x1c20159950>,\n",
       "        <matplotlib.axes._subplots.AxesSubplot object at 0x1c20192190>,\n",
       "        <matplotlib.axes._subplots.AxesSubplot object at 0x1c20192c90>],\n",
       "       [<matplotlib.axes._subplots.AxesSubplot object at 0x1c201cf650>,\n",
       "        <matplotlib.axes._subplots.AxesSubplot object at 0x1c202349d0>,\n",
       "        <matplotlib.axes._subplots.AxesSubplot object at 0x1c1c52e3d0>]],\n",
       "      dtype=object)"
      ]
     },
     "execution_count": 17,
     "metadata": {},
     "output_type": "execute_result"
    },
    {
     "data": {
      "image/png": "[encoded data removed]",
      "text/plain": [
       "<Figure size 432x288 with 12 Axes>"
      ]
     },
     "metadata": {
      "needs_background": "light"
     },
     "output_type": "display_data"
    }
   ],
   "source": [
    "data.hist()"
   ]
  },
  {
   "cell_type": "code",
   "execution_count": 5,
   "metadata": {},
   "outputs": [
    {
     "data": {
      "text/html": [
       "<div>\n",
       "<style scoped>\n",
       "    .dataframe tbody tr th:only-of-type {\n",
       "        vertical-align: middle;\n",
       "    }\n",
       "\n",
       "    .dataframe tbody tr th {\n",
       "        vertical-align: top;\n",
       "    }\n",
       "\n",
       "    .dataframe thead th {\n",
       "        text-align: right;\n",
       "    }\n",
       "</style>\n",
       "<table border=\"1\" class=\"dataframe\">\n",
       "  <thead>\n",
       "    <tr style=\"text-align: right;\">\n",
       "      <th></th>\n",
       "      <th>track_number</th>\n",
       "      <th>track_count</th>\n",
       "      <th>duration</th>\n",
       "      <th>track_pop</th>\n",
       "      <th>comparative_pop</th>\n",
       "      <th>danceability</th>\n",
       "      <th>energy</th>\n",
       "      <th>loudness</th>\n",
       "      <th>speechiness</th>\n",
       "      <th>acousticness</th>\n",
       "      <th>liveness</th>\n",
       "      <th>valence</th>\n",
       "    </tr>\n",
       "  </thead>\n",
       "  <tbody>\n",
       "    <tr>\n",
       "      <td>count</td>\n",
       "      <td>40415.000000</td>\n",
       "      <td>40415.000000</td>\n",
       "      <td>4.041500e+04</td>\n",
       "      <td>40415.000000</td>\n",
       "      <td>40415.000000</td>\n",
       "      <td>40415.000000</td>\n",
       "      <td>40415.000000</td>\n",
       "      <td>40415.000000</td>\n",
       "      <td>40415.000000</td>\n",
       "      <td>40415.000000</td>\n",
       "      <td>40415.000000</td>\n",
       "      <td>40415.000000</td>\n",
       "    </tr>\n",
       "    <tr>\n",
       "      <td>mean</td>\n",
       "      <td>9.129902</td>\n",
       "      <td>14.358511</td>\n",
       "      <td>2.208703e+05</td>\n",
       "      <td>32.537767</td>\n",
       "      <td>-5.282625</td>\n",
       "      <td>0.545371</td>\n",
       "      <td>0.101695</td>\n",
       "      <td>-7.389449</td>\n",
       "      <td>8.455385</td>\n",
       "      <td>1.220592</td>\n",
       "      <td>0.586926</td>\n",
       "      <td>3.139018</td>\n",
       "    </tr>\n",
       "    <tr>\n",
       "      <td>std</td>\n",
       "      <td>12.611353</td>\n",
       "      <td>12.209903</td>\n",
       "      <td>1.024597e+05</td>\n",
       "      <td>23.506694</td>\n",
       "      <td>10.096814</td>\n",
       "      <td>0.193047</td>\n",
       "      <td>2.151203</td>\n",
       "      <td>4.512736</td>\n",
       "      <td>31.837571</td>\n",
       "      <td>4.029411</td>\n",
       "      <td>1.895489</td>\n",
       "      <td>11.693014</td>\n",
       "    </tr>\n",
       "    <tr>\n",
       "      <td>min</td>\n",
       "      <td>0.000000</td>\n",
       "      <td>-63.800000</td>\n",
       "      <td>0.000000e+00</td>\n",
       "      <td>0.000000</td>\n",
       "      <td>-78.947368</td>\n",
       "      <td>0.000000</td>\n",
       "      <td>-30.016000</td>\n",
       "      <td>-60.000000</td>\n",
       "      <td>0.000000</td>\n",
       "      <td>0.000000</td>\n",
       "      <td>0.000000</td>\n",
       "      <td>0.000000</td>\n",
       "    </tr>\n",
       "    <tr>\n",
       "      <td>25%</td>\n",
       "      <td>3.000000</td>\n",
       "      <td>11.000000</td>\n",
       "      <td>1.861530e+05</td>\n",
       "      <td>7.000000</td>\n",
       "      <td>-12.000000</td>\n",
       "      <td>0.429000</td>\n",
       "      <td>0.415000</td>\n",
       "      <td>-9.382500</td>\n",
       "      <td>0.034700</td>\n",
       "      <td>0.027200</td>\n",
       "      <td>0.099100</td>\n",
       "      <td>0.291000</td>\n",
       "    </tr>\n",
       "    <tr>\n",
       "      <td>50%</td>\n",
       "      <td>6.000000</td>\n",
       "      <td>13.000000</td>\n",
       "      <td>2.222530e+05</td>\n",
       "      <td>36.000000</td>\n",
       "      <td>-2.181818</td>\n",
       "      <td>0.565000</td>\n",
       "      <td>0.633000</td>\n",
       "      <td>-6.648000</td>\n",
       "      <td>0.048600</td>\n",
       "      <td>0.174000</td>\n",
       "      <td>0.137000</td>\n",
       "      <td>0.498000</td>\n",
       "    </tr>\n",
       "    <tr>\n",
       "      <td>75%</td>\n",
       "      <td>10.000000</td>\n",
       "      <td>16.000000</td>\n",
       "      <td>2.612595e+05</td>\n",
       "      <td>52.000000</td>\n",
       "      <td>1.076923</td>\n",
       "      <td>0.685000</td>\n",
       "      <td>0.803000</td>\n",
       "      <td>-4.753000</td>\n",
       "      <td>0.112000</td>\n",
       "      <td>0.605000</td>\n",
       "      <td>0.304000</td>\n",
       "      <td>0.732000</td>\n",
       "    </tr>\n",
       "    <tr>\n",
       "      <td>max</td>\n",
       "      <td>135.000000</td>\n",
       "      <td>349.000000</td>\n",
       "      <td>7.211978e+06</td>\n",
       "      <td>88.000000</td>\n",
       "      <td>12.500000</td>\n",
       "      <td>0.987000</td>\n",
       "      <td>1.000000</td>\n",
       "      <td>2.766000</td>\n",
       "      <td>211.261000</td>\n",
       "      <td>100.000000</td>\n",
       "      <td>54.000000</td>\n",
       "      <td>88.000000</td>\n",
       "    </tr>\n",
       "  </tbody>\n",
       "</table>\n",
       "</div>"
      ],
      "text/plain": [
       "       track_number   track_count      duration     track_pop  comparative_pop  danceability        energy      loudness   speechiness  acousticness      liveness       valence\n",
       "count  40415.000000  40415.000000  4.041500e+04  40415.000000     40415.000000  40415.000000  40415.000000  40415.000000  40415.000000  40415.000000  40415.000000  40415.000000\n",
       "mean       9.129902     14.358511  2.208703e+05     32.537767        -5.282625      0.545371      0.101695     -7.389449      8.455385      1.220592      0.586926      3.139018\n",
       "std       12.611353     12.209903  1.024597e+05     23.506694        10.096814      0.193047      2.151203      4.512736     31.837571      4.029411      1.895489     11.693014\n",
       "min        0.000000    -63.800000  0.000000e+00      0.000000       -78.947368      0.000000    -30.016000    -60.000000      0.000000      0.000000      0.000000      0.000000\n",
       "25%        3.000000     11.000000  1.861530e+05      7.000000       -12.000000      0.429000      0.415000     -9.382500      0.034700      0.027200      0.099100      0.291000\n",
       "50%        6.000000     13.000000  2.222530e+05     36.000000        -2.181818      0.565000      0.633000     -6.648000      0.048600      0.174000      0.137000      0.498000\n",
       "75%       10.000000     16.000000  2.612595e+05     52.000000         1.076923      0.685000      0.803000     -4.753000      0.112000      0.605000      0.304000      0.732000\n",
       "max      135.000000    349.000000  7.211978e+06     88.000000        12.500000      0.987000      1.000000      2.766000    211.261000    100.000000     54.000000     88.000000"
      ]
     },
     "execution_count": 5,
     "metadata": {},
     "output_type": "execute_result"
    }
   ],
   "source": [
    "data.describe()"
   ]
  },
  {
   "cell_type": "code",
   "execution_count": 71,
   "metadata": {},
   "outputs": [
    {
     "data": {
      "text/plain": [
       "0        226863.0\n",
       "1        198800.0\n",
       "2        235933.0\n",
       "3        267266.0\n",
       "4        227600.0\n",
       "           ...   \n",
       "40410    171786.0\n",
       "40411    265320.0\n",
       "40412    435280.0\n",
       "40413    282266.0\n",
       "40414    222026.0\n",
       "Name: duration, Length: 40415, dtype: float64"
      ]
     },
     "execution_count": 71,
     "metadata": {},
     "output_type": "execute_result"
    }
   ],
   "source": [
    "data['duration']"
   ]
  },
  {
   "cell_type": "code",
   "execution_count": 70,
   "metadata": {},
   "outputs": [
    {
     "data": {
      "text/plain": [
       "0        226863\n",
       "1        198800\n",
       "2        235933\n",
       "3        267266\n",
       "4        227600\n",
       "          ...  \n",
       "40410    171786\n",
       "40411    265320\n",
       "40412    435280\n",
       "40413    282266\n",
       "40414    222026\n",
       "Name: duration, Length: 40415, dtype: int64"
      ]
     },
     "execution_count": 70,
     "metadata": {},
     "output_type": "execute_result"
    }
   ],
   "source": [
    "data['duration'].astype(int)"
   ]
  },
  {
   "cell_type": "code",
   "execution_count": 96,
   "metadata": {},
   "outputs": [
    {
     "data": {
      "text/plain": [
       "4.64e-05"
      ]
     },
     "execution_count": 96,
     "metadata": {},
     "output_type": "execute_result"
    }
   ],
   "source": [
    "data['instrumentalness'][40414]"
   ]
  },
  {
   "cell_type": "code",
   "execution_count": 99,
   "metadata": {},
   "outputs": [
    {
     "data": {
      "text/plain": [
       "0        0.006970\n",
       "1        0.025000\n",
       "2        0.000000\n",
       "3        0.000234\n",
       "4        0.000000\n",
       "           ...   \n",
       "40410    0.000007\n",
       "40411    0.429000\n",
       "40412    0.868000\n",
       "40413    0.003380\n",
       "40414    0.000046\n",
       "Name: instrumentalness, Length: 37665, dtype: float64"
      ]
     },
     "execution_count": 99,
     "metadata": {},
     "output_type": "execute_result"
    }
   ],
   "source": [
    "pd.to_numeric(data['instrumentalness'], errors='coerce')"
   ]
  },
  {
   "cell_type": "code",
   "execution_count": 93,
   "metadata": {},
   "outputs": [
    {
     "data": {
      "text/plain": [
       "0        False\n",
       "1        False\n",
       "2         True\n",
       "3        False\n",
       "4         True\n",
       "         ...  \n",
       "40410      NaN\n",
       "40411      NaN\n",
       "40412      NaN\n",
       "40413      NaN\n",
       "40414      NaN\n",
       "Name: instrumentalness, Length: 40415, dtype: object"
      ]
     },
     "execution_count": 93,
     "metadata": {},
     "output_type": "execute_result"
    }
   ],
   "source": [
    "data['instrumentalness'].str.isdecimal()"
   ]
  },
  {
   "cell_type": "code",
   "execution_count": 62,
   "metadata": {},
   "outputs": [
    {
     "data": {
      "text/plain": [
       "2156"
      ]
     },
     "execution_count": 62,
     "metadata": {},
     "output_type": "execute_result"
    }
   ],
   "source": [
    "(data['album_pop'] == 'FALSE').sum()"
   ]
  },
  {
   "cell_type": "code",
   "execution_count": 68,
   "metadata": {},
   "outputs": [
    {
     "data": {
      "text/plain": [
       "0        0UaMYEvWZi0ZqiDOoHU3YI\n",
       "1        6I9VzXrHxO9rA9A5euc8Ak\n",
       "2        0WqIKmW4BTrj3eJFmnCKMv\n",
       "3        1AWQoqb9bSvzTjaLralEkT\n",
       "4        1lzr43nnXAijIGYnCT8M8H\n",
       "                  ...          \n",
       "40410    62uYBzWnNZQC57wazPwahz\n",
       "40411    0Y6WjYBWld3reWsTMT8FTd\n",
       "40412    4RBX6oibNBv6XljbjzONH0\n",
       "40413    4RMCSBsOSY40jMKnJwAdiS\n",
       "40414    3qmFOLo0GiUX4MCI6b08kE\n",
       "Name: track_id, Length: 40415, dtype: object"
      ]
     },
     "execution_count": 68,
     "metadata": {},
     "output_type": "execute_result"
    }
   ],
   "source": [
    "data['track_id']"
   ]
  },
  {
   "cell_type": "code",
   "execution_count": 63,
   "metadata": {},
   "outputs": [],
   "source": [
    "data['album_pop'] = data['album_pop'].replace({'TRUE': 0, 'FALSE': 0})"
   ]
  },
  {
   "cell_type": "code",
   "execution_count": 86,
   "metadata": {},
   "outputs": [
    {
     "data": {
      "text/plain": [
       "'0.00697'"
      ]
     },
     "execution_count": 86,
     "metadata": {},
     "output_type": "execute_result"
    }
   ],
   "source": [
    "data['instrumentalness'][0]"
   ]
  },
  {
   "cell_type": "code",
   "execution_count": 87,
   "metadata": {},
   "outputs": [
    {
     "ename": "ValueError",
     "evalue": "could not convert string to float: '1tc6RFcNQk2mQ0c0ZdiEBW'",
     "output_type": "error",
     "traceback": [
      "\u001b[0;31m---------------------------------------------------------------------------\u001b[0m",
      "\u001b[0;31mValueError\u001b[0m                                Traceback (most recent call last)",
      "\u001b[0;32m<ipython-input-87-d8ebcbbd6f5e>\u001b[0m in \u001b[0;36m<module>\u001b[0;34m\u001b[0m\n\u001b[0;32m----> 1\u001b[0;31m \u001b[0mdata\u001b[0m\u001b[0;34m[\u001b[0m\u001b[0;34m'instrumentalness'\u001b[0m\u001b[0;34m]\u001b[0m\u001b[0;34m.\u001b[0m\u001b[0mastype\u001b[0m\u001b[0;34m(\u001b[0m\u001b[0mfloat\u001b[0m\u001b[0;34m)\u001b[0m\u001b[0;34m\u001b[0m\u001b[0;34m\u001b[0m\u001b[0m\n\u001b[0m\u001b[1;32m      2\u001b[0m \u001b[0mdata\u001b[0m\u001b[0;34m[\u001b[0m\u001b[0;34m'instrumentalness'\u001b[0m\u001b[0;34m]\u001b[0m\u001b[0;34m.\u001b[0m\u001b[0mapply\u001b[0m\u001b[0;34m(\u001b[0m\u001b[0;32mlambda\u001b[0m \u001b[0mx\u001b[0m\u001b[0;34m:\u001b[0m \u001b[0misinstance\u001b[0m\u001b[0;34m(\u001b[0m\u001b[0mx\u001b[0m\u001b[0;34m,\u001b[0m \u001b[0;34m(\u001b[0m\u001b[0mint\u001b[0m\u001b[0;34m,\u001b[0m \u001b[0mfloat\u001b[0m\u001b[0;34m)\u001b[0m\u001b[0;34m)\u001b[0m\u001b[0;34m)\u001b[0m\u001b[0;34m\u001b[0m\u001b[0;34m\u001b[0m\u001b[0m\n",
      "\u001b[0;32m~/anaconda3/lib/python3.7/site-packages/pandas/core/generic.py\u001b[0m in \u001b[0;36mastype\u001b[0;34m(self, dtype, copy, errors, **kwargs)\u001b[0m\n\u001b[1;32m   5880\u001b[0m             \u001b[0;31m# else, only a single dtype is given\u001b[0m\u001b[0;34m\u001b[0m\u001b[0;34m\u001b[0m\u001b[0;34m\u001b[0m\u001b[0m\n\u001b[1;32m   5881\u001b[0m             new_data = self._data.astype(\n\u001b[0;32m-> 5882\u001b[0;31m                 \u001b[0mdtype\u001b[0m\u001b[0;34m=\u001b[0m\u001b[0mdtype\u001b[0m\u001b[0;34m,\u001b[0m \u001b[0mcopy\u001b[0m\u001b[0;34m=\u001b[0m\u001b[0mcopy\u001b[0m\u001b[0;34m,\u001b[0m \u001b[0merrors\u001b[0m\u001b[0;34m=\u001b[0m\u001b[0merrors\u001b[0m\u001b[0;34m,\u001b[0m \u001b[0;34m**\u001b[0m\u001b[0mkwargs\u001b[0m\u001b[0;34m\u001b[0m\u001b[0;34m\u001b[0m\u001b[0m\n\u001b[0m\u001b[1;32m   5883\u001b[0m             )\n\u001b[1;32m   5884\u001b[0m             \u001b[0;32mreturn\u001b[0m \u001b[0mself\u001b[0m\u001b[0;34m.\u001b[0m\u001b[0m_constructor\u001b[0m\u001b[0;34m(\u001b[0m\u001b[0mnew_data\u001b[0m\u001b[0;34m)\u001b[0m\u001b[0;34m.\u001b[0m\u001b[0m__finalize__\u001b[0m\u001b[0;34m(\u001b[0m\u001b[0mself\u001b[0m\u001b[0;34m)\u001b[0m\u001b[0;34m\u001b[0m\u001b[0;34m\u001b[0m\u001b[0m\n",
      "\u001b[0;32m~/anaconda3/lib/python3.7/site-packages/pandas/core/internals/managers.py\u001b[0m in \u001b[0;36mastype\u001b[0;34m(self, dtype, **kwargs)\u001b[0m\n\u001b[1;32m    579\u001b[0m \u001b[0;34m\u001b[0m\u001b[0m\n\u001b[1;32m    580\u001b[0m     \u001b[0;32mdef\u001b[0m \u001b[0mastype\u001b[0m\u001b[0;34m(\u001b[0m\u001b[0mself\u001b[0m\u001b[0;34m,\u001b[0m \u001b[0mdtype\u001b[0m\u001b[0;34m,\u001b[0m \u001b[0;34m**\u001b[0m\u001b[0mkwargs\u001b[0m\u001b[0;34m)\u001b[0m\u001b[0;34m:\u001b[0m\u001b[0;34m\u001b[0m\u001b[0;34m\u001b[0m\u001b[0m\n\u001b[0;32m--> 581\u001b[0;31m         \u001b[0;32mreturn\u001b[0m \u001b[0mself\u001b[0m\u001b[0;34m.\u001b[0m\u001b[0mapply\u001b[0m\u001b[0;34m(\u001b[0m\u001b[0;34m\"astype\"\u001b[0m\u001b[0;34m,\u001b[0m \u001b[0mdtype\u001b[0m\u001b[0;34m=\u001b[0m\u001b[0mdtype\u001b[0m\u001b[0;34m,\u001b[0m \u001b[0;34m**\u001b[0m\u001b[0mkwargs\u001b[0m\u001b[0;34m)\u001b[0m\u001b[0;34m\u001b[0m\u001b[0;34m\u001b[0m\u001b[0m\n\u001b[0m\u001b[1;32m    582\u001b[0m \u001b[0;34m\u001b[0m\u001b[0m\n\u001b[1;32m    583\u001b[0m     \u001b[0;32mdef\u001b[0m \u001b[0mconvert\u001b[0m\u001b[0;34m(\u001b[0m\u001b[0mself\u001b[0m\u001b[0;34m,\u001b[0m \u001b[0;34m**\u001b[0m\u001b[0mkwargs\u001b[0m\u001b[0;34m)\u001b[0m\u001b[0;34m:\u001b[0m\u001b[0;34m\u001b[0m\u001b[0;34m\u001b[0m\u001b[0m\n",
      "\u001b[0;32m~/anaconda3/lib/python3.7/site-packages/pandas/core/internals/managers.py\u001b[0m in \u001b[0;36mapply\u001b[0;34m(self, f, axes, filter, do_integrity_check, consolidate, **kwargs)\u001b[0m\n\u001b[1;32m    436\u001b[0m                     \u001b[0mkwargs\u001b[0m\u001b[0;34m[\u001b[0m\u001b[0mk\u001b[0m\u001b[0;34m]\u001b[0m \u001b[0;34m=\u001b[0m \u001b[0mobj\u001b[0m\u001b[0;34m.\u001b[0m\u001b[0mreindex\u001b[0m\u001b[0;34m(\u001b[0m\u001b[0mb_items\u001b[0m\u001b[0;34m,\u001b[0m \u001b[0maxis\u001b[0m\u001b[0;34m=\u001b[0m\u001b[0maxis\u001b[0m\u001b[0;34m,\u001b[0m \u001b[0mcopy\u001b[0m\u001b[0;34m=\u001b[0m\u001b[0malign_copy\u001b[0m\u001b[0;34m)\u001b[0m\u001b[0;34m\u001b[0m\u001b[0;34m\u001b[0m\u001b[0m\n\u001b[1;32m    437\u001b[0m \u001b[0;34m\u001b[0m\u001b[0m\n\u001b[0;32m--> 438\u001b[0;31m             \u001b[0mapplied\u001b[0m \u001b[0;34m=\u001b[0m \u001b[0mgetattr\u001b[0m\u001b[0;34m(\u001b[0m\u001b[0mb\u001b[0m\u001b[0;34m,\u001b[0m \u001b[0mf\u001b[0m\u001b[0;34m)\u001b[0m\u001b[0;34m(\u001b[0m\u001b[0;34m**\u001b[0m\u001b[0mkwargs\u001b[0m\u001b[0;34m)\u001b[0m\u001b[0;34m\u001b[0m\u001b[0;34m\u001b[0m\u001b[0m\n\u001b[0m\u001b[1;32m    439\u001b[0m             \u001b[0mresult_blocks\u001b[0m \u001b[0;34m=\u001b[0m \u001b[0m_extend_blocks\u001b[0m\u001b[0;34m(\u001b[0m\u001b[0mapplied\u001b[0m\u001b[0;34m,\u001b[0m \u001b[0mresult_blocks\u001b[0m\u001b[0;34m)\u001b[0m\u001b[0;34m\u001b[0m\u001b[0;34m\u001b[0m\u001b[0m\n\u001b[1;32m    440\u001b[0m \u001b[0;34m\u001b[0m\u001b[0m\n",
      "\u001b[0;32m~/anaconda3/lib/python3.7/site-packages/pandas/core/internals/blocks.py\u001b[0m in \u001b[0;36mastype\u001b[0;34m(self, dtype, copy, errors, values, **kwargs)\u001b[0m\n\u001b[1;32m    557\u001b[0m \u001b[0;34m\u001b[0m\u001b[0m\n\u001b[1;32m    558\u001b[0m     \u001b[0;32mdef\u001b[0m \u001b[0mastype\u001b[0m\u001b[0;34m(\u001b[0m\u001b[0mself\u001b[0m\u001b[0;34m,\u001b[0m \u001b[0mdtype\u001b[0m\u001b[0;34m,\u001b[0m \u001b[0mcopy\u001b[0m\u001b[0;34m=\u001b[0m\u001b[0;32mFalse\u001b[0m\u001b[0;34m,\u001b[0m \u001b[0merrors\u001b[0m\u001b[0;34m=\u001b[0m\u001b[0;34m\"raise\"\u001b[0m\u001b[0;34m,\u001b[0m \u001b[0mvalues\u001b[0m\u001b[0;34m=\u001b[0m\u001b[0;32mNone\u001b[0m\u001b[0;34m,\u001b[0m \u001b[0;34m**\u001b[0m\u001b[0mkwargs\u001b[0m\u001b[0;34m)\u001b[0m\u001b[0;34m:\u001b[0m\u001b[0;34m\u001b[0m\u001b[0;34m\u001b[0m\u001b[0m\n\u001b[0;32m--> 559\u001b[0;31m         \u001b[0;32mreturn\u001b[0m \u001b[0mself\u001b[0m\u001b[0;34m.\u001b[0m\u001b[0m_astype\u001b[0m\u001b[0;34m(\u001b[0m\u001b[0mdtype\u001b[0m\u001b[0;34m,\u001b[0m \u001b[0mcopy\u001b[0m\u001b[0;34m=\u001b[0m\u001b[0mcopy\u001b[0m\u001b[0;34m,\u001b[0m \u001b[0merrors\u001b[0m\u001b[0;34m=\u001b[0m\u001b[0merrors\u001b[0m\u001b[0;34m,\u001b[0m \u001b[0mvalues\u001b[0m\u001b[0;34m=\u001b[0m\u001b[0mvalues\u001b[0m\u001b[0;34m,\u001b[0m \u001b[0;34m**\u001b[0m\u001b[0mkwargs\u001b[0m\u001b[0;34m)\u001b[0m\u001b[0;34m\u001b[0m\u001b[0;34m\u001b[0m\u001b[0m\n\u001b[0m\u001b[1;32m    560\u001b[0m \u001b[0;34m\u001b[0m\u001b[0m\n\u001b[1;32m    561\u001b[0m     \u001b[0;32mdef\u001b[0m \u001b[0m_astype\u001b[0m\u001b[0;34m(\u001b[0m\u001b[0mself\u001b[0m\u001b[0;34m,\u001b[0m \u001b[0mdtype\u001b[0m\u001b[0;34m,\u001b[0m \u001b[0mcopy\u001b[0m\u001b[0;34m=\u001b[0m\u001b[0;32mFalse\u001b[0m\u001b[0;34m,\u001b[0m \u001b[0merrors\u001b[0m\u001b[0;34m=\u001b[0m\u001b[0;34m\"raise\"\u001b[0m\u001b[0;34m,\u001b[0m \u001b[0mvalues\u001b[0m\u001b[0;34m=\u001b[0m\u001b[0;32mNone\u001b[0m\u001b[0;34m,\u001b[0m \u001b[0;34m**\u001b[0m\u001b[0mkwargs\u001b[0m\u001b[0;34m)\u001b[0m\u001b[0;34m:\u001b[0m\u001b[0;34m\u001b[0m\u001b[0;34m\u001b[0m\u001b[0m\n",
      "\u001b[0;32m~/anaconda3/lib/python3.7/site-packages/pandas/core/internals/blocks.py\u001b[0m in \u001b[0;36m_astype\u001b[0;34m(self, dtype, copy, errors, values, **kwargs)\u001b[0m\n\u001b[1;32m    641\u001b[0m                     \u001b[0;31m# _astype_nansafe works fine with 1-d only\u001b[0m\u001b[0;34m\u001b[0m\u001b[0;34m\u001b[0m\u001b[0;34m\u001b[0m\u001b[0m\n\u001b[1;32m    642\u001b[0m                     \u001b[0mvals1d\u001b[0m \u001b[0;34m=\u001b[0m \u001b[0mvalues\u001b[0m\u001b[0;34m.\u001b[0m\u001b[0mravel\u001b[0m\u001b[0;34m(\u001b[0m\u001b[0;34m)\u001b[0m\u001b[0;34m\u001b[0m\u001b[0;34m\u001b[0m\u001b[0m\n\u001b[0;32m--> 643\u001b[0;31m                     \u001b[0mvalues\u001b[0m \u001b[0;34m=\u001b[0m \u001b[0mastype_nansafe\u001b[0m\u001b[0;34m(\u001b[0m\u001b[0mvals1d\u001b[0m\u001b[0;34m,\u001b[0m \u001b[0mdtype\u001b[0m\u001b[0;34m,\u001b[0m \u001b[0mcopy\u001b[0m\u001b[0;34m=\u001b[0m\u001b[0;32mTrue\u001b[0m\u001b[0;34m,\u001b[0m \u001b[0;34m**\u001b[0m\u001b[0mkwargs\u001b[0m\u001b[0;34m)\u001b[0m\u001b[0;34m\u001b[0m\u001b[0;34m\u001b[0m\u001b[0m\n\u001b[0m\u001b[1;32m    644\u001b[0m \u001b[0;34m\u001b[0m\u001b[0m\n\u001b[1;32m    645\u001b[0m                 \u001b[0;31m# TODO(extension)\u001b[0m\u001b[0;34m\u001b[0m\u001b[0;34m\u001b[0m\u001b[0;34m\u001b[0m\u001b[0m\n",
      "\u001b[0;32m~/anaconda3/lib/python3.7/site-packages/pandas/core/dtypes/cast.py\u001b[0m in \u001b[0;36mastype_nansafe\u001b[0;34m(arr, dtype, copy, skipna)\u001b[0m\n\u001b[1;32m    727\u001b[0m     \u001b[0;32mif\u001b[0m \u001b[0mcopy\u001b[0m \u001b[0;32mor\u001b[0m \u001b[0mis_object_dtype\u001b[0m\u001b[0;34m(\u001b[0m\u001b[0marr\u001b[0m\u001b[0;34m)\u001b[0m \u001b[0;32mor\u001b[0m \u001b[0mis_object_dtype\u001b[0m\u001b[0;34m(\u001b[0m\u001b[0mdtype\u001b[0m\u001b[0;34m)\u001b[0m\u001b[0;34m:\u001b[0m\u001b[0;34m\u001b[0m\u001b[0;34m\u001b[0m\u001b[0m\n\u001b[1;32m    728\u001b[0m         \u001b[0;31m# Explicit copy, or required since NumPy can't view from / to object.\u001b[0m\u001b[0;34m\u001b[0m\u001b[0;34m\u001b[0m\u001b[0;34m\u001b[0m\u001b[0m\n\u001b[0;32m--> 729\u001b[0;31m         \u001b[0;32mreturn\u001b[0m \u001b[0marr\u001b[0m\u001b[0;34m.\u001b[0m\u001b[0mastype\u001b[0m\u001b[0;34m(\u001b[0m\u001b[0mdtype\u001b[0m\u001b[0;34m,\u001b[0m \u001b[0mcopy\u001b[0m\u001b[0;34m=\u001b[0m\u001b[0;32mTrue\u001b[0m\u001b[0;34m)\u001b[0m\u001b[0;34m\u001b[0m\u001b[0;34m\u001b[0m\u001b[0m\n\u001b[0m\u001b[1;32m    730\u001b[0m \u001b[0;34m\u001b[0m\u001b[0m\n\u001b[1;32m    731\u001b[0m     \u001b[0;32mreturn\u001b[0m \u001b[0marr\u001b[0m\u001b[0;34m.\u001b[0m\u001b[0mview\u001b[0m\u001b[0;34m(\u001b[0m\u001b[0mdtype\u001b[0m\u001b[0;34m)\u001b[0m\u001b[0;34m\u001b[0m\u001b[0;34m\u001b[0m\u001b[0m\n",
      "\u001b[0;31mValueError\u001b[0m: could not convert string to float: '1tc6RFcNQk2mQ0c0ZdiEBW'"
     ]
    }
   ],
   "source": [
    "data['instrumentalness'].astype(float)\n",
    "data['instrumentalness'].apply(lambda x: isinstance(x, (int, float)))"
   ]
  },
  {
   "cell_type": "code",
   "execution_count": 42,
   "metadata": {},
   "outputs": [
    {
     "data": {
      "text/plain": [
       "0        1\n",
       "1        0\n",
       "2        0\n",
       "3        0\n",
       "4        0\n",
       "        ..\n",
       "40410    0\n",
       "40411    0\n",
       "40412    0\n",
       "40413    0\n",
       "40414    0\n",
       "Name: explicit, Length: 40415, dtype: int64"
      ]
     },
     "execution_count": 42,
     "metadata": {},
     "output_type": "execute_result"
    }
   ],
   "source": [
    "data['explicit'].replace({'TRUE': 1, 'FALSE': 0, True: 1, False: 0})"
   ]
  },
  {
   "cell_type": "code",
   "execution_count": null,
   "metadata": {},
   "outputs": [],
   "source": []
  }
 ],
 "metadata": {
  "kernelspec": {
   "display_name": "Python 3",
   "language": "python",
   "name": "python3"
  },
  "language_info": {
   "codemirror_mode": {
    "name": "ipython",
    "version": 3
   },
   "file_extension": ".py",
   "mimetype": "text/x-python",
   "name": "python",
   "nbconvert_exporter": "python",
   "pygments_lexer": "ipython3",
   "version": "3.7.4"
  }
 },
 "nbformat": 4,
 "nbformat_minor": 4
}
