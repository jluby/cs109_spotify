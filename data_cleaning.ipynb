{
 "cells": [
  {
   "cell_type": "markdown",
   "metadata": {},
   "source": [
    "## Spotify Song-Album Popularity Data Cleaning\n",
    "\n",
    "This notebook takes in the combined CSVs from the data collection step, removes duplicate tracks, and cleans the data."
   ]
  },
  {
   "cell_type": "code",
   "execution_count": 1,
   "metadata": {},
   "outputs": [],
   "source": [
    "import pandas as pd"
   ]
  },
  {
   "cell_type": "code",
   "execution_count": 2,
   "metadata": {},
   "outputs": [
    {
     "name": "stderr",
     "output_type": "stream",
     "text": [
      "/Users/hakeemangulu/anaconda3/lib/python3.7/site-packages/IPython/core/interactiveshell.py:3058: DtypeWarning: Columns (5) have mixed types. Specify dtype option on import or set low_memory=False.\n",
      "  interactivity=interactivity, compiler=compiler, result=result)\n"
     ]
    }
   ],
   "source": [
    "csv = pd.read_csv(f\"data/final_merged_data.csv\")"
   ]
  },
  {
   "cell_type": "code",
   "execution_count": 3,
   "metadata": {},
   "outputs": [
    {
     "data": {
      "text/html": [
       "<div>\n",
       "<style scoped>\n",
       "    .dataframe tbody tr th:only-of-type {\n",
       "        vertical-align: middle;\n",
       "    }\n",
       "\n",
       "    .dataframe tbody tr th {\n",
       "        vertical-align: top;\n",
       "    }\n",
       "\n",
       "    .dataframe thead th {\n",
       "        text-align: right;\n",
       "    }\n",
       "</style>\n",
       "<table border=\"1\" class=\"dataframe\">\n",
       "  <thead>\n",
       "    <tr style=\"text-align: right;\">\n",
       "      <th></th>\n",
       "      <th>track_id</th>\n",
       "      <th>album_id</th>\n",
       "      <th>track_number</th>\n",
       "      <th>track_count</th>\n",
       "      <th>duration</th>\n",
       "      <th>explicit</th>\n",
       "      <th>track_pop</th>\n",
       "      <th>album_pop</th>\n",
       "      <th>comparative_pop</th>\n",
       "      <th>danceability</th>\n",
       "      <th>energy</th>\n",
       "      <th>loudness</th>\n",
       "      <th>speechiness</th>\n",
       "      <th>acousticness</th>\n",
       "      <th>instrumentalness</th>\n",
       "      <th>liveness</th>\n",
       "      <th>valence</th>\n",
       "      <th>tempo</th>\n",
       "    </tr>\n",
       "  </thead>\n",
       "  <tbody>\n",
       "    <tr>\n",
       "      <td>0</td>\n",
       "      <td>47HusOVsGPUcsJtMq40aRd</td>\n",
       "      <td>3hl2uaqB2zBZdetkeATUBe</td>\n",
       "      <td>2</td>\n",
       "      <td>13</td>\n",
       "      <td>357812</td>\n",
       "      <td>False</td>\n",
       "      <td>37</td>\n",
       "      <td>29</td>\n",
       "      <td>8.666667</td>\n",
       "      <td>0.843</td>\n",
       "      <td>0.460</td>\n",
       "      <td>-13.512</td>\n",
       "      <td>0.0540</td>\n",
       "      <td>0.00891</td>\n",
       "      <td>0.00247</td>\n",
       "      <td>0.132</td>\n",
       "      <td>0.8400</td>\n",
       "      <td>109.123</td>\n",
       "    </tr>\n",
       "    <tr>\n",
       "      <td>1</td>\n",
       "      <td>74fXmxkP8507tIXYkVbKHM</td>\n",
       "      <td>3aqSysSJTyqHNyyiDiNGsI</td>\n",
       "      <td>2</td>\n",
       "      <td>14</td>\n",
       "      <td>356680</td>\n",
       "      <td>False</td>\n",
       "      <td>0</td>\n",
       "      <td>0</td>\n",
       "      <td>0.000000</td>\n",
       "      <td>0.719</td>\n",
       "      <td>0.849</td>\n",
       "      <td>-8.704</td>\n",
       "      <td>0.0555</td>\n",
       "      <td>0.05420</td>\n",
       "      <td>0.93000</td>\n",
       "      <td>0.702</td>\n",
       "      <td>0.0675</td>\n",
       "      <td>139.976</td>\n",
       "    </tr>\n",
       "    <tr>\n",
       "      <td>2</td>\n",
       "      <td>6cf6rLb8qcklvJv90W6HCW</td>\n",
       "      <td>1KlU96Hw9nlvqpBPlSqcTV</td>\n",
       "      <td>19</td>\n",
       "      <td>22</td>\n",
       "      <td>220320</td>\n",
       "      <td>False</td>\n",
       "      <td>50</td>\n",
       "      <td>69</td>\n",
       "      <td>-19.904762</td>\n",
       "      <td>0.730</td>\n",
       "      <td>0.587</td>\n",
       "      <td>-5.815</td>\n",
       "      <td>0.0283</td>\n",
       "      <td>0.30600</td>\n",
       "      <td>0.00000</td>\n",
       "      <td>0.143</td>\n",
       "      <td>0.6490</td>\n",
       "      <td>125.070</td>\n",
       "    </tr>\n",
       "    <tr>\n",
       "      <td>3</td>\n",
       "      <td>1Ic1ugEU9PT8RvNippxDSG</td>\n",
       "      <td>2X8CnmJ7E4OgCQenKJSNrs</td>\n",
       "      <td>3</td>\n",
       "      <td>9</td>\n",
       "      <td>275360</td>\n",
       "      <td>False</td>\n",
       "      <td>16</td>\n",
       "      <td>12</td>\n",
       "      <td>4.500000</td>\n",
       "      <td>0.740</td>\n",
       "      <td>0.956</td>\n",
       "      <td>-5.205</td>\n",
       "      <td>0.0861</td>\n",
       "      <td>0.34200</td>\n",
       "      <td>0.12200</td>\n",
       "      <td>0.630</td>\n",
       "      <td>0.1930</td>\n",
       "      <td>112.004</td>\n",
       "    </tr>\n",
       "    <tr>\n",
       "      <td>4</td>\n",
       "      <td>4kln61xMRKk2bwgrCXY4cV</td>\n",
       "      <td>2G6chemqdiNHxEw1ucZ7pw</td>\n",
       "      <td>7</td>\n",
       "      <td>14</td>\n",
       "      <td>289373</td>\n",
       "      <td>False</td>\n",
       "      <td>33</td>\n",
       "      <td>48</td>\n",
       "      <td>-16.153846</td>\n",
       "      <td>0.577</td>\n",
       "      <td>0.458</td>\n",
       "      <td>-7.115</td>\n",
       "      <td>0.0338</td>\n",
       "      <td>0.02200</td>\n",
       "      <td>0.00422</td>\n",
       "      <td>0.084</td>\n",
       "      <td>0.3950</td>\n",
       "      <td>127.330</td>\n",
       "    </tr>\n",
       "  </tbody>\n",
       "</table>\n",
       "</div>"
      ],
      "text/plain": [
       "                 track_id                album_id  track_number  track_count  \\\n",
       "0  47HusOVsGPUcsJtMq40aRd  3hl2uaqB2zBZdetkeATUBe             2           13   \n",
       "1  74fXmxkP8507tIXYkVbKHM  3aqSysSJTyqHNyyiDiNGsI             2           14   \n",
       "2  6cf6rLb8qcklvJv90W6HCW  1KlU96Hw9nlvqpBPlSqcTV            19           22   \n",
       "3  1Ic1ugEU9PT8RvNippxDSG  2X8CnmJ7E4OgCQenKJSNrs             3            9   \n",
       "4  4kln61xMRKk2bwgrCXY4cV  2G6chemqdiNHxEw1ucZ7pw             7           14   \n",
       "\n",
       "   duration explicit  track_pop  album_pop  comparative_pop  danceability  \\\n",
       "0    357812    False         37         29         8.666667         0.843   \n",
       "1    356680    False          0          0         0.000000         0.719   \n",
       "2    220320    False         50         69       -19.904762         0.730   \n",
       "3    275360    False         16         12         4.500000         0.740   \n",
       "4    289373    False         33         48       -16.153846         0.577   \n",
       "\n",
       "   energy  loudness  speechiness  acousticness  instrumentalness  liveness  \\\n",
       "0   0.460   -13.512       0.0540       0.00891           0.00247     0.132   \n",
       "1   0.849    -8.704       0.0555       0.05420           0.93000     0.702   \n",
       "2   0.587    -5.815       0.0283       0.30600           0.00000     0.143   \n",
       "3   0.956    -5.205       0.0861       0.34200           0.12200     0.630   \n",
       "4   0.458    -7.115       0.0338       0.02200           0.00422     0.084   \n",
       "\n",
       "   valence    tempo  \n",
       "0   0.8400  109.123  \n",
       "1   0.0675  139.976  \n",
       "2   0.6490  125.070  \n",
       "3   0.1930  112.004  \n",
       "4   0.3950  127.330  "
      ]
     },
     "execution_count": 3,
     "metadata": {},
     "output_type": "execute_result"
    }
   ],
   "source": [
    "csv.head()"
   ]
  },
  {
   "cell_type": "markdown",
   "metadata": {},
   "source": [
    "### Remove Duplicates"
   ]
  },
  {
   "cell_type": "code",
   "execution_count": 4,
   "metadata": {},
   "outputs": [],
   "source": [
    "deduped_csv = csv.drop_duplicates(subset=\"track_id\")"
   ]
  },
  {
   "cell_type": "code",
   "execution_count": 10,
   "metadata": {},
   "outputs": [
    {
     "name": "stdout",
     "output_type": "stream",
     "text": [
      "There were 217586 tracks in the original merged file.\n",
      "There are 150992 tracks in the deduped file.\n",
      "\n",
      "Hence, there were 66594 duplicate tracks during data collection.\n",
      "That corresponds to ~30 % of the data collected.\n"
     ]
    }
   ],
   "source": [
    "print(f\"There were {len(csv)} tracks in the original merged file.\")\n",
    "print(f\"There are {len(deduped_csv)} tracks in the deduped file.\")\n",
    "print()\n",
    "print(f\"Hence, there were {len(csv) - len(deduped_csv)} duplicate tracks during data collection.\")\n",
    "print(f\"That corresponds to ~{int(((len(csv) - len(deduped_csv)) / len(csv) * 100))} % of the data collected.\")"
   ]
  },
  {
   "cell_type": "code",
   "execution_count": 11,
   "metadata": {},
   "outputs": [
    {
     "data": {
      "text/plain": [
       "track_id             object\n",
       "album_id             object\n",
       "track_number          int64\n",
       "track_count           int64\n",
       "duration              int64\n",
       "explicit             object\n",
       "track_pop             int64\n",
       "album_pop             int64\n",
       "comparative_pop     float64\n",
       "danceability        float64\n",
       "energy              float64\n",
       "loudness            float64\n",
       "speechiness         float64\n",
       "acousticness        float64\n",
       "instrumentalness    float64\n",
       "liveness            float64\n",
       "valence             float64\n",
       "tempo               float64\n",
       "dtype: object"
      ]
     },
     "execution_count": 11,
     "metadata": {},
     "output_type": "execute_result"
    }
   ],
   "source": [
    "deduped_csv.dtypes"
   ]
  },
  {
   "cell_type": "markdown",
   "metadata": {},
   "source": [
    "### Clean up data types"
   ]
  },
  {
   "cell_type": "code",
   "execution_count": 12,
   "metadata": {},
   "outputs": [
    {
     "name": "stderr",
     "output_type": "stream",
     "text": [
      "/Users/hakeemangulu/anaconda3/lib/python3.7/site-packages/ipykernel_launcher.py:2: SettingWithCopyWarning: \n",
      "A value is trying to be set on a copy of a slice from a DataFrame.\n",
      "Try using .loc[row_indexer,col_indexer] = value instead\n",
      "\n",
      "See the caveats in the documentation: http://pandas.pydata.org/pandas-docs/stable/user_guide/indexing.html#returning-a-view-versus-a-copy\n",
      "  \n"
     ]
    }
   ],
   "source": [
    "# Do some minor data cleaning\n",
    "deduped_csv['explicit'] = deduped_csv['explicit'].replace({'TRUE': 1, 'FALSE': 0, True: 1, False: 0})"
   ]
  },
  {
   "cell_type": "code",
   "execution_count": 13,
   "metadata": {},
   "outputs": [
    {
     "name": "stderr",
     "output_type": "stream",
     "text": [
      "/Users/hakeemangulu/anaconda3/lib/python3.7/site-packages/ipykernel_launcher.py:1: SettingWithCopyWarning: \n",
      "A value is trying to be set on a copy of a slice from a DataFrame.\n",
      "Try using .loc[row_indexer,col_indexer] = value instead\n",
      "\n",
      "See the caveats in the documentation: http://pandas.pydata.org/pandas-docs/stable/user_guide/indexing.html#returning-a-view-versus-a-copy\n",
      "  \"\"\"Entry point for launching an IPython kernel.\n"
     ]
    }
   ],
   "source": [
    "deduped_csv['album_pop'] = pd.to_numeric(deduped_csv['album_pop'], errors='coerce')"
   ]
  },
  {
   "cell_type": "code",
   "execution_count": 14,
   "metadata": {},
   "outputs": [
    {
     "name": "stderr",
     "output_type": "stream",
     "text": [
      "/Users/hakeemangulu/anaconda3/lib/python3.7/site-packages/ipykernel_launcher.py:1: SettingWithCopyWarning: \n",
      "A value is trying to be set on a copy of a slice from a DataFrame.\n",
      "Try using .loc[row_indexer,col_indexer] = value instead\n",
      "\n",
      "See the caveats in the documentation: http://pandas.pydata.org/pandas-docs/stable/user_guide/indexing.html#returning-a-view-versus-a-copy\n",
      "  \"\"\"Entry point for launching an IPython kernel.\n",
      "/Users/hakeemangulu/anaconda3/lib/python3.7/site-packages/ipykernel_launcher.py:2: SettingWithCopyWarning: \n",
      "A value is trying to be set on a copy of a slice from a DataFrame.\n",
      "Try using .loc[row_indexer,col_indexer] = value instead\n",
      "\n",
      "See the caveats in the documentation: http://pandas.pydata.org/pandas-docs/stable/user_guide/indexing.html#returning-a-view-versus-a-copy\n",
      "  \n"
     ]
    }
   ],
   "source": [
    "deduped_csv['track_count'] = deduped_csv['track_count'].astype(int)\n",
    "deduped_csv['duration'] = deduped_csv['duration'].astype(int)"
   ]
  },
  {
   "cell_type": "code",
   "execution_count": 15,
   "metadata": {},
   "outputs": [
    {
     "name": "stderr",
     "output_type": "stream",
     "text": [
      "/Users/hakeemangulu/anaconda3/lib/python3.7/site-packages/ipykernel_launcher.py:1: SettingWithCopyWarning: \n",
      "A value is trying to be set on a copy of a slice from a DataFrame.\n",
      "Try using .loc[row_indexer,col_indexer] = value instead\n",
      "\n",
      "See the caveats in the documentation: http://pandas.pydata.org/pandas-docs/stable/user_guide/indexing.html#returning-a-view-versus-a-copy\n",
      "  \"\"\"Entry point for launching an IPython kernel.\n"
     ]
    }
   ],
   "source": [
    "deduped_csv['instrumentalness'] = pd.to_numeric(deduped_csv['instrumentalness'], errors='coerce')"
   ]
  },
  {
   "cell_type": "code",
   "execution_count": 16,
   "metadata": {},
   "outputs": [
    {
     "name": "stderr",
     "output_type": "stream",
     "text": [
      "/Users/hakeemangulu/anaconda3/lib/python3.7/site-packages/ipykernel_launcher.py:1: SettingWithCopyWarning: \n",
      "A value is trying to be set on a copy of a slice from a DataFrame.\n",
      "Try using .loc[row_indexer,col_indexer] = value instead\n",
      "\n",
      "See the caveats in the documentation: http://pandas.pydata.org/pandas-docs/stable/user_guide/indexing.html#returning-a-view-versus-a-copy\n",
      "  \"\"\"Entry point for launching an IPython kernel.\n"
     ]
    }
   ],
   "source": [
    "deduped_csv['tempo'] = pd.to_numeric(deduped_csv['tempo'], errors='coerce')"
   ]
  },
  {
   "cell_type": "markdown",
   "metadata": {},
   "source": [
    "### Report the differences"
   ]
  },
  {
   "cell_type": "code",
   "execution_count": 17,
   "metadata": {},
   "outputs": [],
   "source": [
    "clean_data = deduped_csv.dropna()"
   ]
  },
  {
   "cell_type": "code",
   "execution_count": 18,
   "metadata": {},
   "outputs": [
    {
     "data": {
      "text/plain": [
       "track_id             object\n",
       "album_id             object\n",
       "track_number          int64\n",
       "track_count           int64\n",
       "duration              int64\n",
       "explicit              int64\n",
       "track_pop             int64\n",
       "album_pop             int64\n",
       "comparative_pop     float64\n",
       "danceability        float64\n",
       "energy              float64\n",
       "loudness            float64\n",
       "speechiness         float64\n",
       "acousticness        float64\n",
       "instrumentalness    float64\n",
       "liveness            float64\n",
       "valence             float64\n",
       "tempo               float64\n",
       "dtype: object"
      ]
     },
     "execution_count": 18,
     "metadata": {},
     "output_type": "execute_result"
    }
   ],
   "source": [
    "clean_data.dtypes"
   ]
  },
  {
   "cell_type": "code",
   "execution_count": 19,
   "metadata": {},
   "outputs": [
    {
     "name": "stdout",
     "output_type": "stream",
     "text": [
      "There were 150992 tracks in the deduped file.\n",
      "There are 150992 tracks in the cleaned file.\n",
      "\n",
      "Hence, there were 0 unclean records.\n",
      "That corresponds to ~0 % of the deduplicated data.\n"
     ]
    }
   ],
   "source": [
    "print(f\"There were {len(deduped_csv)} tracks in the deduped file.\")\n",
    "print(f\"There are {len(clean_data)} tracks in the cleaned file.\")\n",
    "print()\n",
    "print(f\"Hence, there were {len(deduped_csv) - len(clean_data)} unclean records.\")\n",
    "print(f\"That corresponds to ~{int(((len(deduped_csv) - len(clean_data)) / len(deduped_csv)) * 100)} % of the deduplicated data.\")"
   ]
  },
  {
   "cell_type": "code",
   "execution_count": 20,
   "metadata": {},
   "outputs": [],
   "source": [
    "# Write the deduped data to a csv\n",
    "clean_data.to_csv(\"data/final_spotify_data.csv\", index=False)"
   ]
  },
  {
   "cell_type": "code",
   "execution_count": null,
   "metadata": {},
   "outputs": [],
   "source": []
  }
 ],
 "metadata": {
  "kernelspec": {
   "display_name": "Python 3",
   "language": "python",
   "name": "python3"
  },
  "language_info": {
   "codemirror_mode": {
    "name": "ipython",
    "version": 3
   },
   "file_extension": ".py",
   "mimetype": "text/x-python",
   "name": "python",
   "nbconvert_exporter": "python",
   "pygments_lexer": "ipython3",
   "version": "3.7.4"
  }
 },
 "nbformat": 4,
 "nbformat_minor": 4
}
