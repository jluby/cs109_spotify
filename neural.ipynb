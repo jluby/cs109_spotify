{
 "cells": [
  {
   "cell_type": "markdown",
   "metadata": {},
   "source": [
    "## Spotify Song-Album Popularity Neural Network Models\n",
    "\n",
    "This notebook performs exploratory data analysis on the Spotify data."
   ]
  },
  {
   "cell_type": "code",
   "execution_count": 1,
   "metadata": {},
   "outputs": [],
   "source": [
    "import random\n",
    "random.seed(109)\n",
    "\n",
    "import numpy as np\n",
    "import pandas as pd\n",
    "import matplotlib.pyplot as plt\n",
    "\n",
    "from sklearn.model_selection import cross_val_score\n",
    "from sklearn.utils import resample\n",
    "from sklearn.tree import DecisionTreeClassifier\n",
    "from sklearn.ensemble import RandomForestClassifier\n",
    "from sklearn.ensemble import AdaBoostClassifier\n",
    "from sklearn.linear_model import LogisticRegressionCV\n",
    "from sklearn.preprocessing import MinMaxScaler\n",
    "from sklearn.model_selection import train_test_split\n",
    "from sklearn.metrics import confusion_matrix\n",
    "from sklearn.preprocessing import scale\n",
    "from sklearn.metrics import roc_auc_score,accuracy_score\n",
    "from sklearn.model_selection import GridSearchCV\n",
    "from random import randint \n",
    "\n",
    "from sklearn import tree\n",
    "%matplotlib inline\n",
    "\n",
    "import seaborn as sns\n",
    "pd.set_option('display.width', 1500)\n",
    "pd.set_option('display.max_columns', 100)\n",
    "\n",
    "from sklearn.utils import shuffle"
   ]
  },
  {
   "cell_type": "code",
   "execution_count": 2,
   "metadata": {},
   "outputs": [],
   "source": [
    "# TensorFlow and tf.keras\n",
    "import tensorflow as tf"
   ]
  },
  {
   "cell_type": "code",
   "execution_count": 3,
   "metadata": {},
   "outputs": [],
   "source": [
    "# Import the data\n",
    "full_data = pd.read_csv('data/final_spotify_data.csv')\n",
    "train = pd.read_csv('data/training.csv')\n",
    "test = pd.read_csv('data/testing.csv')"
   ]
  },
  {
   "cell_type": "code",
   "execution_count": 4,
   "metadata": {},
   "outputs": [],
   "source": [
    "# Regularize\n",
    "# Create a scaler\n",
    "scaler = MinMaxScaler(feature_range=(-1,1))\n",
    "\n",
    "# Fit scaler on data\n",
    "no_id_train = train.drop(['track_id', 'album_id'], axis=1)\n",
    "no_id_test = test.drop(['track_id', 'album_id'], axis=1)\n",
    "scaler.fit(no_id_train)\n",
    "\n",
    "# Apply transform\n",
    "normalized_train = scaler.transform(no_id_train)\n",
    "normalized_test = scaler.transform(no_id_test)\n",
    "\n",
    "# Separate the features from the response\n",
    "X_train = normalized_train[:, :-1]\n",
    "y_train = normalized_train[:, -1]\n",
    "\n",
    "X_test = normalized_test[:, :-1]\n",
    "y_test = normalized_test[:, -1]"
   ]
  },
  {
   "cell_type": "code",
   "execution_count": 5,
   "metadata": {},
   "outputs": [],
   "source": [
    "# Build the preliminary model\n",
    "prelim_model = tf.keras.models.Sequential(name=\"preliminary\")\n",
    "\n",
    "# Input Layer\n",
    "prelim_model.add(tf.keras.layers.Flatten(input_shape=(15,)))\n",
    "\n",
    "# Hidden Layers\n",
    "prelim_model.add(tf.keras.layers.Dense(100, kernel_initializer='normal', activation='relu'))\n",
    "prelim_model.add(tf.keras.layers.Dense(100, kernel_initializer='normal', activation='relu'))\n",
    "prelim_model.add(tf.keras.layers.Dense(100, kernel_initializer='normal', activation='relu'))\n",
    "\n",
    "# Output Layer\n",
    "prelim_model.add(tf.keras.layers.Dense(1, kernel_initializer='normal', activation='linear'))"
   ]
  },
  {
   "cell_type": "code",
   "execution_count": 6,
   "metadata": {},
   "outputs": [
    {
     "name": "stdout",
     "output_type": "stream",
     "text": [
      "Model: \"preliminary\"\n",
      "_________________________________________________________________\n",
      "Layer (type)                 Output Shape              Param #   \n",
      "=================================================================\n",
      "flatten (Flatten)            (None, 15)                0         \n",
      "_________________________________________________________________\n",
      "dense (Dense)                (None, 100)               1600      \n",
      "_________________________________________________________________\n",
      "dense_1 (Dense)              (None, 100)               10100     \n",
      "_________________________________________________________________\n",
      "dense_2 (Dense)              (None, 100)               10100     \n",
      "_________________________________________________________________\n",
      "dense_3 (Dense)              (None, 1)                 101       \n",
      "=================================================================\n",
      "Total params: 21,901\n",
      "Trainable params: 21,901\n",
      "Non-trainable params: 0\n",
      "_________________________________________________________________\n"
     ]
    }
   ],
   "source": [
    "# Compile the model \n",
    "prelim_model.compile(loss='mean_squared_error', \n",
    "                     optimzer='adam')\n",
    "prelim_model.summary()"
   ]
  },
  {
   "cell_type": "code",
   "execution_count": 7,
   "metadata": {},
   "outputs": [],
   "source": [
    "# Fit the model\n",
    "prelim_history = prelim_model.fit(X_train, y_train, validation_split=0.2, epochs=200, batch_size=500, verbose=0)"
   ]
  },
  {
   "cell_type": "code",
   "execution_count": 8,
   "metadata": {},
   "outputs": [
    {
     "data": {
      "text/plain": [
       "dict_keys(['loss', 'val_loss'])"
      ]
     },
     "execution_count": 8,
     "metadata": {},
     "output_type": "execute_result"
    }
   ],
   "source": [
    "prelim_history.history.keys()"
   ]
  },
  {
   "cell_type": "code",
   "execution_count": 9,
   "metadata": {},
   "outputs": [
    {
     "data": {
      "image/png": "[encoded data removed]",
      "text/plain": [
       "<Figure size 432x288 with 1 Axes>"
      ]
     },
     "metadata": {
      "needs_background": "light"
     },
     "output_type": "display_data"
    }
   ],
   "source": [
    "# Plot training and validation accuracy \n",
    "plt.plot(prelim_history.history['loss'], label='training')\n",
    "plt.plot(prelim_history.history['val_loss'], label='validation')\n",
    "plt.title('Preliminary Model Training and Validation Mean Squared Error')\n",
    "plt.xlabel('epoch')\n",
    "plt.ylabel('mse')\n",
    "plt.legend()\n",
    "plt.show()"
   ]
  },
  {
   "cell_type": "code",
   "execution_count": 10,
   "metadata": {},
   "outputs": [],
   "source": [
    "# Build the secondary model, with regularization\n",
    "model2 = tf.keras.models.Sequential(name=\"second\")\n",
    "\n",
    "# Input Layer\n",
    "model2.add(tf.keras.layers.Flatten(input_shape=(15,)))\n",
    "\n",
    "# Hidden Layers\n",
    "model2.add(tf.keras.layers.Dense(100, kernel_initializer='normal', activation='relu'))\n",
    "model2.add(tf.keras.layers.BatchNormalization())\n",
    "model2.add(tf.keras.layers.Dropout(0.3))\n",
    "model2.add(tf.keras.layers.Dense(100, kernel_initializer='normal', activation='relu'))\n",
    "model2.add(tf.keras.layers.BatchNormalization())\n",
    "model2.add(tf.keras.layers.Dropout(0.3))\n",
    "model2.add(tf.keras.layers.Dense(100, kernel_initializer='normal', activation='relu'))\n",
    "model2.add(tf.keras.layers.BatchNormalization())\n",
    "model2.add(tf.keras.layers.Dropout(0.2))\n",
    "\n",
    "# Output Layer\n",
    "model2.add(tf.keras.layers.Dense(1, kernel_initializer='normal', activation='linear'))"
   ]
  },
  {
   "cell_type": "code",
   "execution_count": 11,
   "metadata": {},
   "outputs": [
    {
     "name": "stdout",
     "output_type": "stream",
     "text": [
      "Model: \"second\"\n",
      "_________________________________________________________________\n",
      "Layer (type)                 Output Shape              Param #   \n",
      "=================================================================\n",
      "flatten_1 (Flatten)          (None, 15)                0         \n",
      "_________________________________________________________________\n",
      "dense_4 (Dense)              (None, 100)               1600      \n",
      "_________________________________________________________________\n",
      "batch_normalization (BatchNo (None, 100)               400       \n",
      "_________________________________________________________________\n",
      "dropout (Dropout)            (None, 100)               0         \n",
      "_________________________________________________________________\n",
      "dense_5 (Dense)              (None, 100)               10100     \n",
      "_________________________________________________________________\n",
      "batch_normalization_1 (Batch (None, 100)               400       \n",
      "_________________________________________________________________\n",
      "dropout_1 (Dropout)          (None, 100)               0         \n",
      "_________________________________________________________________\n",
      "dense_6 (Dense)              (None, 100)               10100     \n",
      "_________________________________________________________________\n",
      "batch_normalization_2 (Batch (None, 100)               400       \n",
      "_________________________________________________________________\n",
      "dropout_2 (Dropout)          (None, 100)               0         \n",
      "_________________________________________________________________\n",
      "dense_7 (Dense)              (None, 1)                 101       \n",
      "=================================================================\n",
      "Total params: 23,101\n",
      "Trainable params: 22,501\n",
      "Non-trainable params: 600\n",
      "_________________________________________________________________\n"
     ]
    }
   ],
   "source": [
    "# Compile the model \n",
    "model2.compile(loss='mean_squared_error', optimzer='adam')\n",
    "model2.summary()"
   ]
  },
  {
   "cell_type": "code",
   "execution_count": 12,
   "metadata": {},
   "outputs": [],
   "source": [
    "# Fit the model \n",
    "model2_history = model2.fit(X_train, y_train, validation_split=0.2, epochs=200, batch_size=500, verbose=0)"
   ]
  },
  {
   "cell_type": "code",
   "execution_count": 13,
   "metadata": {},
   "outputs": [
    {
     "data": {
      "image/png": "[encoded data removed]",
      "text/plain": [
       "<Figure size 432x288 with 1 Axes>"
      ]
     },
     "metadata": {
      "needs_background": "light"
     },
     "output_type": "display_data"
    }
   ],
   "source": [
    "# Plot training and validation accuracy \n",
    "plt.plot(model2_history.history['loss'], label='training')\n",
    "plt.plot(model2_history.history['val_loss'], label='validation')\n",
    "plt.title('Secondary Model Training and Validation Mean Squared Error')\n",
    "plt.xlabel('epoch')\n",
    "plt.ylabel('mse')\n",
    "plt.legend()\n",
    "plt.show()"
   ]
  },
  {
   "cell_type": "code",
   "execution_count": 14,
   "metadata": {},
   "outputs": [],
   "source": [
    "# Build the tertiary model, with less regularization\n",
    "model3 = tf.keras.models.Sequential(name=\"third\")\n",
    "\n",
    "# Input Layer\n",
    "model3.add(tf.keras.layers.Flatten(input_shape=(15,)))\n",
    "\n",
    "# Hidden Layers\n",
    "model3.add(tf.keras.layers.Dense(100, kernel_initializer='normal', activation='relu'))\n",
    "model3.add(tf.keras.layers.BatchNormalization())\n",
    "model3.add(tf.keras.layers.Dropout(0.1))\n",
    "model3.add(tf.keras.layers.Dense(100, kernel_initializer='normal', activation='relu'))\n",
    "model3.add(tf.keras.layers.BatchNormalization())\n",
    "model3.add(tf.keras.layers.Dropout(0.3))\n",
    "model3.add(tf.keras.layers.Dense(100, kernel_initializer='normal', activation='relu'))\n",
    "model3.add(tf.keras.layers.BatchNormalization())\n",
    "model3.add(tf.keras.layers.Dropout(0.2))\n",
    "\n",
    "# Output Layer\n",
    "model3.add(tf.keras.layers.Dense(1, kernel_initializer='normal', activation='linear'))"
   ]
  },
  {
   "cell_type": "code",
   "execution_count": 15,
   "metadata": {},
   "outputs": [
    {
     "name": "stdout",
     "output_type": "stream",
     "text": [
      "Model: \"third\"\n",
      "_________________________________________________________________\n",
      "Layer (type)                 Output Shape              Param #   \n",
      "=================================================================\n",
      "flatten_2 (Flatten)          (None, 15)                0         \n",
      "_________________________________________________________________\n",
      "dense_8 (Dense)              (None, 100)               1600      \n",
      "_________________________________________________________________\n",
      "batch_normalization_3 (Batch (None, 100)               400       \n",
      "_________________________________________________________________\n",
      "dropout_3 (Dropout)          (None, 100)               0         \n",
      "_________________________________________________________________\n",
      "dense_9 (Dense)              (None, 100)               10100     \n",
      "_________________________________________________________________\n",
      "batch_normalization_4 (Batch (None, 100)               400       \n",
      "_________________________________________________________________\n",
      "dropout_4 (Dropout)          (None, 100)               0         \n",
      "_________________________________________________________________\n",
      "dense_10 (Dense)             (None, 100)               10100     \n",
      "_________________________________________________________________\n",
      "batch_normalization_5 (Batch (None, 100)               400       \n",
      "_________________________________________________________________\n",
      "dropout_5 (Dropout)          (None, 100)               0         \n",
      "_________________________________________________________________\n",
      "dense_11 (Dense)             (None, 1)                 101       \n",
      "=================================================================\n",
      "Total params: 23,101\n",
      "Trainable params: 22,501\n",
      "Non-trainable params: 600\n",
      "_________________________________________________________________\n"
     ]
    }
   ],
   "source": [
    "# Compile the model \n",
    "model3.compile(loss='mean_squared_error', optimzer='adam')\n",
    "model3.summary()"
   ]
  },
  {
   "cell_type": "code",
   "execution_count": 16,
   "metadata": {},
   "outputs": [],
   "source": [
    "# Fit the model \n",
    "model3_history = model3.fit(X_train, y_train, validation_split=0.2, epochs=100, batch_size=500, verbose=0)"
   ]
  },
  {
   "cell_type": "code",
   "execution_count": 17,
   "metadata": {},
   "outputs": [
    {
     "data": {
      "image/png": "[encoded data removed]",
      "text/plain": [
       "<Figure size 432x288 with 1 Axes>"
      ]
     },
     "metadata": {
      "needs_background": "light"
     },
     "output_type": "display_data"
    }
   ],
   "source": [
    "# Plot training and validation accuracy \n",
    "plt.plot(model3_history.history['loss'], label='training')\n",
    "plt.plot(model3_history.history['val_loss'], label='validation')\n",
    "plt.title('Tertiary Model Training and Validation Mean Squared Error')\n",
    "plt.xlabel('epoch')\n",
    "plt.ylabel('mse')\n",
    "plt.legend()\n",
    "plt.show()"
   ]
  },
  {
   "cell_type": "markdown",
   "metadata": {},
   "source": [
    "### Evaluation on the Test Set\n",
    "\n",
    "The following illustrate the models' performance on the test set."
   ]
  },
  {
   "cell_type": "code",
   "execution_count": 22,
   "metadata": {},
   "outputs": [],
   "source": [
    "# Loss on the test set\n",
    "training_loss_1 = prelim_model.evaluate(X_train, y_train, verbose=0)\n",
    "test_loss_1 =  prelim_model.evaluate(X_test, y_test, verbose=0)\n",
    "\n",
    "training_loss_2 = model2.evaluate(X_train, y_train, verbose=0)\n",
    "test_loss_2 =  model2.evaluate(X_test, y_test, verbose=0)\n",
    "\n",
    "training_loss_3 = model3.evaluate(X_train, y_train, verbose=0)\n",
    "test_loss_3 =  model3.evaluate(X_test, y_test, verbose=0)"
   ]
  },
  {
   "cell_type": "code",
   "execution_count": 23,
   "metadata": {},
   "outputs": [
    {
     "name": "stdout",
     "output_type": "stream",
     "text": [
      "*** Preliminary Model ***\n",
      "The overall loss on the training set is: 6.682492888811291e-05\n",
      "The overall loss on the test set is: 6.743461346106448e-05\n",
      "The preliminary model performs ~0% worse on the test set than on the training set.\n"
     ]
    }
   ],
   "source": [
    "print(\"*** Preliminary Model ***\")\n",
    "print(f\"The overall loss on the training set is: {training_loss_1}\")\n",
    "print(f\"The overall loss on the test set is: {test_loss_1}\")\n",
    "\n",
    "pct_diff_1 = (test_loss_1 - training_loss_1) / test_loss_1\n",
    "print(f\"The preliminary model performs ~{int(pct_diff_1 * 100)}% worse on the test set than on the training set.\")"
   ]
  },
  {
   "cell_type": "code",
   "execution_count": 24,
   "metadata": {},
   "outputs": [
    {
     "name": "stdout",
     "output_type": "stream",
     "text": [
      "*** Secondary Model ***\n",
      "The overall loss on the training set is: 0.0004689296062914339\n",
      "The overall loss on the test set is: 0.00048050602316430057\n",
      "The secondary model performs ~2% worse on the test set than on the training set.\n"
     ]
    }
   ],
   "source": [
    "print(\"*** Secondary Model ***\")\n",
    "print(f\"The overall loss on the training set is: {training_loss_2}\")\n",
    "print(f\"The overall loss on the test set is: {test_loss_2}\")\n",
    "\n",
    "pct_diff_2 = (test_loss_2 - training_loss_2) / test_loss_2\n",
    "print(f\"The secondary model performs ~{int(pct_diff_2 * 100)}% worse on the test set than on the training set.\")"
   ]
  },
  {
   "cell_type": "code",
   "execution_count": 25,
   "metadata": {},
   "outputs": [
    {
     "name": "stdout",
     "output_type": "stream",
     "text": [
      "*** Tertiary Model ***\n",
      "The overall loss on the training set is: 0.00015271110559795552\n",
      "The overall loss on the test set is: 0.0001536590355775316\n",
      "The preliminary model performs ~0% worse on the test set than on the training set.\n"
     ]
    }
   ],
   "source": [
    "print(\"*** Tertiary Model ***\")\n",
    "print(f\"The overall loss on the training set is: {training_loss_3}\")\n",
    "print(f\"The overall loss on the test set is: {test_loss_3}\")\n",
    "\n",
    "pct_diff_3 = (test_loss_3 - training_loss_3) / test_loss_3\n",
    "print(f\"The preliminary model performs ~{int(pct_diff_3 * 100)}% worse on the test set than on the training set.\")"
   ]
  },
  {
   "cell_type": "markdown",
   "metadata": {},
   "source": [
    "Of the models above, the preliminary model, with no regularization, seems to perfrom the best on the validation set."
   ]
  },
  {
   "cell_type": "code",
   "execution_count": 32,
   "metadata": {},
   "outputs": [
    {
     "name": "stdout",
     "output_type": "stream",
     "text": [
      "Saved model.\n"
     ]
    }
   ],
   "source": [
    "# Serialize model to JSON\n",
    "prelim_model_json = prelim_model.to_json()\n",
    "with open(\"models/neural.json\", \"w\") as json_file:\n",
    "    json_file.write(prelim_model_json)\n",
    "    \n",
    "# Serialize weights to HDF5\n",
    "prelim_model.save_weights(\"models/neural.h5\")\n",
    "\n",
    "print(\"Saved model.\")"
   ]
  },
  {
   "cell_type": "code",
   "execution_count": null,
   "metadata": {},
   "outputs": [],
   "source": []
  }
 ],
 "metadata": {
  "kernelspec": {
   "display_name": "Python 3",
   "language": "python",
   "name": "python3"
  },
  "language_info": {
   "codemirror_mode": {
    "name": "ipython",
    "version": 3
   },
   "file_extension": ".py",
   "mimetype": "text/x-python",
   "name": "python",
   "nbconvert_exporter": "python",
   "pygments_lexer": "ipython3",
   "version": "3.7.4"
  }
 },
 "nbformat": 4,
 "nbformat_minor": 4
}
