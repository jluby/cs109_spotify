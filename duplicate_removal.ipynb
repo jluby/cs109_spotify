{
 "cells": [
  {
   "cell_type": "markdown",
   "metadata": {},
   "source": [
    "## Spotify Song-Album Popularity Duplicate Data Removal\n",
    "\n",
    "This notebook takes in the combined CSVs from the data collection step and removes duplicate tracks."
   ]
  },
  {
   "cell_type": "code",
   "execution_count": 1,
   "metadata": {},
   "outputs": [],
   "source": [
    "import pandas as pd"
   ]
  },
  {
   "cell_type": "code",
   "execution_count": 26,
   "metadata": {},
   "outputs": [],
   "source": [
    "csv = pd.read_csv(f\"data/merged_eda_data.csv\")"
   ]
  },
  {
   "cell_type": "code",
   "execution_count": 27,
   "metadata": {},
   "outputs": [],
   "source": [
    "deduped_csv = csv.drop_duplicates(subset=\"track_id\")"
   ]
  },
  {
   "cell_type": "code",
   "execution_count": 28,
   "metadata": {},
   "outputs": [
    {
     "name": "stdout",
     "output_type": "stream",
     "text": [
      "There were 1363698 tracks in the original merged file.\n",
      "There are 727470 tracks in the deduped file.\n",
      "\n",
      "Hence, there were 636228 duplicate tracks during data collection.\n",
      "That corresponds to ~46 % of the data collected.\n"
     ]
    }
   ],
   "source": [
    "print(f\"There were {csv.size} tracks in the original merged file.\")\n",
    "print(f\"There are {deduped_csv.size} tracks in the deduped file.\")\n",
    "print()\n",
    "print(f\"Hence, there were {csv.size - deduped_csv.size} duplicate tracks during data collection.\")\n",
    "print(f\"That corresponds to ~{int(((csv.size - deduped_csv.size) / csv.size) * 100)} % of the data collected.\")"
   ]
  },
  {
   "cell_type": "code",
   "execution_count": 29,
   "metadata": {},
   "outputs": [],
   "source": [
    "# Write the deduped data to a csv\n",
    "deduped_csv.to_csv(\"data/full_eda_data.csv\", index=False)"
   ]
  },
  {
   "cell_type": "code",
   "execution_count": null,
   "metadata": {},
   "outputs": [],
   "source": []
  }
 ],
 "metadata": {
  "kernelspec": {
   "display_name": "Python 3",
   "language": "python",
   "name": "python3"
  },
  "language_info": {
   "codemirror_mode": {
    "name": "ipython",
    "version": 3
   },
   "file_extension": ".py",
   "mimetype": "text/x-python",
   "name": "python",
   "nbconvert_exporter": "python",
   "pygments_lexer": "ipython3",
   "version": "3.7.4"
  }
 },
 "nbformat": 4,
 "nbformat_minor": 4
}
