{
 "cells": [
  {
   "cell_type": "code",
   "execution_count": 21,
   "metadata": {},
   "outputs": [],
   "source": [
    "import spotipy\n",
    "from spotipy.oauth2 import SpotifyClientCredentials\n",
    "import json\n",
    "import pandas as pd"
   ]
  },
  {
   "cell_type": "code",
   "execution_count": 14,
   "metadata": {},
   "outputs": [],
   "source": [
    "credentials = json.load(open('credentials.json'))\n",
    "client_id = credentials['client_id']\n",
    "client_secret = credentials['client_secret']"
   ]
  },
  {
   "cell_type": "code",
   "execution_count": 17,
   "metadata": {},
   "outputs": [],
   "source": [
    "client_credentials_manager = SpotifyClientCredentials(\n",
    "    client_id=client_id,\n",
    "    client_secret=client_secret)\n",
    "sp = spotipy.Spotify(client_credentials_manager=client_credentials_manager)"
   ]
  },
  {
   "cell_type": "markdown",
   "metadata": {},
   "source": [
    "** LOAD IN CSV **"
   ]
  },
  {
   "cell_type": "code",
   "execution_count": 31,
   "metadata": {},
   "outputs": [],
   "source": [
    "songs_0 = pd.read_csv('Songs/songs0.csv')"
   ]
  },
  {
   "cell_type": "code",
   "execution_count": 32,
   "metadata": {},
   "outputs": [],
   "source": [
    "playlist_one = songs_0[songs_0['pid'] == 0]"
   ]
  },
  {
   "cell_type": "code",
   "execution_count": 34,
   "metadata": {},
   "outputs": [],
   "source": [
    "track_uri = playlist_one['track_uri']"
   ]
  },
  {
   "cell_type": "code",
   "execution_count": 52,
   "metadata": {},
   "outputs": [
    {
     "data": {
      "text/plain": [
       "'spotify:track:0UaMYEvWZi0ZqiDOoHU3YI'"
      ]
     },
     "execution_count": 52,
     "metadata": {},
     "output_type": "execute_result"
    }
   ],
   "source": [
    "track_uri[0]"
   ]
  },
  {
   "cell_type": "code",
   "execution_count": null,
   "metadata": {},
   "outputs": [],
   "source": []
  },
  {
   "cell_type": "code",
   "execution_count": null,
   "metadata": {},
   "outputs": [],
   "source": []
  },
  {
   "cell_type": "code",
   "execution_count": null,
   "metadata": {},
   "outputs": [],
   "source": []
  },
  {
   "cell_type": "code",
   "execution_count": null,
   "metadata": {},
   "outputs": [],
   "source": []
  },
  {
   "cell_type": "code",
   "execution_count": null,
   "metadata": {},
   "outputs": [],
   "source": [
    "#"
   ]
  },
  {
   "cell_type": "code",
   "execution_count": 35,
   "metadata": {},
   "outputs": [
    {
     "data": {
      "text/plain": [
       "0     spotify:track:0UaMYEvWZi0ZqiDOoHU3YI\n",
       "1     spotify:track:6I9VzXrHxO9rA9A5euc8Ak\n",
       "2     spotify:track:0WqIKmW4BTrj3eJFmnCKMv\n",
       "3     spotify:track:1AWQoqb9bSvzTjaLralEkT\n",
       "4     spotify:track:1lzr43nnXAijIGYnCT8M8H\n",
       "5     spotify:track:0XUfyU2QviPAs6bxSpXYG4\n",
       "6     spotify:track:68vgtRHr7iZHpzGpon6Jlo\n",
       "7     spotify:track:3BxWKCI06eQ5Od8TY2JBeA\n",
       "8     spotify:track:7H6ev70Weq6DdpZyyTmUXk\n",
       "9     spotify:track:2PpruBYCo4H7WOBJ7Q2EwM\n",
       "10    spotify:track:2gam98EZKrF9XuOkU13ApN\n",
       "11    spotify:track:4Y45aqo9QMa57rDsAJv40A\n",
       "12    spotify:track:1HwpWwa6bnqqRhK8agG4RS\n",
       "13    spotify:track:20ORwCJusz4KS2PbTPVNKo\n",
       "14    spotify:track:7k6IzwMGpxnRghE7YosnXT\n",
       "15    spotify:track:1Bv0Yl01xBDZD4OQP93fyl\n",
       "16    spotify:track:4omisSlTk6Dsq2iQD7MA07\n",
       "17    spotify:track:7xYnUQigPoIDAMPVK79NEq\n",
       "18    spotify:track:6d8A5sAx9TfdeseDvfWNHd\n",
       "19    spotify:track:4pmc2AxSEq6g7hPVlJCPyP\n",
       "20    spotify:track:215JYyyUnrJ98NK3KEwu6d\n",
       "21    spotify:track:0uqPG793dkDDN7sCUJJIVC\n",
       "22    spotify:track:19Js5ypV6JKn4DMExHQbGc\n",
       "23    spotify:track:1JURww012QnWAw0zZXi6Aa\n",
       "24    spotify:track:7DFnq8FYhHMCylykf6ZCxA\n",
       "25    spotify:track:1TfAhjzRBWzYZ8IdUV3igl\n",
       "26    spotify:track:1Y4ZdPOOgCUhBcKZOrUFiS\n",
       "27    spotify:track:6MjljecHzHelUDismyKkba\n",
       "28    spotify:track:67T6l4q3zVjC5nZZPXByU8\n",
       "29    spotify:track:34ceTg8ChN5HjrqiIYCn9Q\n",
       "30    spotify:track:5Q0Nhxo0l2bP3pNjpGJwV1\n",
       "31    spotify:track:6GIrIt2M39wEGwjCQjGChX\n",
       "32    spotify:track:4E5P1XyAFtrjpiIxkydly4\n",
       "33    spotify:track:3H1LCvO3fVsK2HPguhbml0\n",
       "34    spotify:track:3uoQULcUWfnt6nc6J7Vgai\n",
       "35    spotify:track:2nbClS09zsIAqNkshg6jnp\n",
       "36    spotify:track:69ghzc538EQSVon2Gm3wrr\n",
       "37    spotify:track:1kusepF3AacIEtUTYrw4GV\n",
       "38    spotify:track:7oK9VyNzrYvRFo7nQEYkWN\n",
       "39    spotify:track:12qZHAeOyTf93YAWvGDTat\n",
       "40    spotify:track:2jFlMILIQzs7lSFudG9lbo\n",
       "41    spotify:track:4I2GqMe7L2ccMpUbnDzYLH\n",
       "42    spotify:track:5lDriBxJd22IhOH9zTcFrV\n",
       "43    spotify:track:2eJ8ij1T3cNUKiGdcUvKhy\n",
       "44    spotify:track:5y69gQtK33qxb8a24ACkCy\n",
       "45    spotify:track:1X5WGCrUMuwRFuYU1eAo2I\n",
       "46    spotify:track:3utIAb67sOu0QHxBE88P1M\n",
       "47    spotify:track:3jkdQNkDTxxXtjSO4l0o1H\n",
       "48    spotify:track:5c1sfI6wIQEsSUw0xrkFdl\n",
       "49    spotify:track:6sqNctd7MlJoKDOxPVCAvU\n",
       "50    spotify:track:1b7vg5T9YKR3NNqXfBYRF7\n",
       "51    spotify:track:6GIrIt2M39wEGwjCQjGChX\n",
       "Name: track_uri, dtype: object"
      ]
     },
     "execution_count": 35,
     "metadata": {},
     "output_type": "execute_result"
    }
   ],
   "source": [
    "track_uri"
   ]
  },
  {
   "cell_type": "code",
   "execution_count": 37,
   "metadata": {},
   "outputs": [],
   "source": [
    "features = sp.audio_features('0UaMYEvWZi0ZqiDOoHU3YI')"
   ]
  },
  {
   "cell_type": "code",
   "execution_count": 48,
   "metadata": {},
   "outputs": [
    {
     "data": {
      "text/plain": [
       "-7.105"
      ]
     },
     "execution_count": 48,
     "metadata": {},
     "output_type": "execute_result"
    }
   ],
   "source": [
    "features[0]['loudness']"
   ]
  },
  {
   "cell_type": "code",
   "execution_count": null,
   "metadata": {},
   "outputs": [],
   "source": []
  }
 ],
 "metadata": {
  "kernelspec": {
   "display_name": "Python 3",
   "language": "python",
   "name": "python3"
  },
  "language_info": {
   "codemirror_mode": {
    "name": "ipython",
    "version": 3
   },
   "file_extension": ".py",
   "mimetype": "text/x-python",
   "name": "python",
   "nbconvert_exporter": "python",
   "pygments_lexer": "ipython3",
   "version": "3.7.3"
  }
 },
 "nbformat": 4,
 "nbformat_minor": 2
}
