{
 "cells": [
  {
   "cell_type": "markdown",
   "metadata": {},
   "source": [
    "## Spotify Song-Album Popularity\n",
    "\n",
    "This is a CS109A project to build a model to predict whether a song will be the most popular one on its album. This notebook allows for the collection of the data."
   ]
  },
  {
   "cell_type": "code",
   "execution_count": 6,
   "metadata": {},
   "outputs": [],
   "source": [
    "import spotipy\n",
    "from spotipy.oauth2 import SpotifyClientCredentials\n",
    "import json\n",
    "import pandas as pd\n",
    "import time"
   ]
  },
  {
   "cell_type": "code",
   "execution_count": 2,
   "metadata": {},
   "outputs": [],
   "source": [
    "credentials = json.load(open('credentials.json'))\n",
    "client_id = credentials['client_id']\n",
    "client_secret = credentials['client_secret']"
   ]
  },
  {
   "cell_type": "code",
   "execution_count": 3,
   "metadata": {},
   "outputs": [],
   "source": [
    "client_credentials_manager = SpotifyClientCredentials(\n",
    "    client_id=client_id,\n",
    "    client_secret=client_secret)\n",
    "sp = spotipy.Spotify(client_credentials_manager=client_credentials_manager)"
   ]
  },
  {
   "cell_type": "markdown",
   "metadata": {},
   "source": [
    "### Gather The Data From The API"
   ]
  },
  {
   "cell_type": "code",
   "execution_count": 4,
   "metadata": {},
   "outputs": [],
   "source": [
    "columns = ['track_id', \n",
    "           'album_id', \n",
    "           'track_number', \n",
    "           'track_count', \n",
    "           'duration', \n",
    "           'explicit', \n",
    "           'track_pop', \n",
    "           'album_pop', \n",
    "           'comparative_pop', \n",
    "           'danceability', \n",
    "           'energy', \n",
    "           'loudness', \n",
    "           'speechiness', \n",
    "           'acousticness', \n",
    "           'instrumentalness', \n",
    "           'liveness', \n",
    "           'valence', \n",
    "           'tempo']"
   ]
  },
  {
   "cell_type": "code",
   "execution_count": 29,
   "metadata": {},
   "outputs": [],
   "source": [
    "# Set up statistics on logistics\n",
    "track_csv_limit = 10000\n",
    "# num_output_csvs = 0\n",
    "# num_tracks = 0\n",
    "# num_albums = 0\n",
    "# num_failed_track_calls = 0\n",
    "# num_failed_album_calls = 0\n",
    "\n",
    "# Set up the track set to avoid duplicates\n",
    "# visited_tracks = set()"
   ]
  },
  {
   "cell_type": "code",
   "execution_count": null,
   "metadata": {},
   "outputs": [
    {
     "name": "stdout",
     "output_type": "stream",
     "text": [
      "retrying ...1secs\n"
     ]
    }
   ],
   "source": [
    "rows = []\n",
    "for csv_id in range(3,333):\n",
    "    csv = pd.read_csv(f'data/Songs/songs{csv_id}.csv')\n",
    "    for uri in csv[\"track_uri\"]:\n",
    "        # Check if the track has already been visited:\n",
    "        if uri in visited_tracks:\n",
    "            continue\n",
    "        else:\n",
    "            visited_tracks.add(uri)\n",
    "            \n",
    "        # Extract the track object\n",
    "        # If the API fails, iteratively pause for 10 seconds and try again\n",
    "        sleep_timer = 10\n",
    "        while True:\n",
    "            try:\n",
    "                track_object = sp.track(uri)\n",
    "                break\n",
    "            except:\n",
    "                num_failed_track_calls += 1\n",
    "                sleep_timer += 10\n",
    "                time.sleep(sleep_timer)\n",
    "            if sleep_timer > 120:\n",
    "                break\n",
    "        if sleep_timer > 120:\n",
    "            num_output_csvs += 1\n",
    "            print(\"Slept for over 2 minutes and still being limited.\")\n",
    "            print(\"Saving the data, sleeping for 10 minutes, then continuing.\")\n",
    "            df = pd.DataFrame(rows)\n",
    "            df.to_csv(f'data/output/clean_spotify_{num_output_csvs}.csv', index=False)\n",
    "            time.sleep(600)\n",
    "            break\n",
    "\n",
    "        # Check if the track is a single\n",
    "        if track_object['album']['album_type'] == 'single':\n",
    "            continue\n",
    "        \n",
    "        num_tracks += 1\n",
    "        # Get the track features\n",
    "        track_id = track_object['id']\n",
    "        album_id = track_object['album']['id']\n",
    "        track_count = track_object['album']['total_tracks']\n",
    "        duration = track_object['duration_ms']\n",
    "        explicit = track_object['explicit']\n",
    "        track_pop = track_object['popularity']\n",
    "        track_number = track_object['track_number']\n",
    "        \n",
    "        # Get the album features\n",
    "        # If the API fails, iteratively pause for 10 seconds and try again\n",
    "        sleep_timer = 10\n",
    "        while True:\n",
    "            try:\n",
    "                album = sp.album(album_id)\n",
    "                break\n",
    "            except:\n",
    "                num_failed_album_calls += 1\n",
    "                sleep_timer += 10\n",
    "                time.sleep(sleep_timer)\n",
    "            if sleep_timer > 120:\n",
    "                break\n",
    "\n",
    "        if sleep_timer > 120:\n",
    "            num_output_csvs += 1\n",
    "            print(\"Slept for over 2 minutes and still being limited.\")\n",
    "            print(\"Saving the data, sleeping for 10 minutes, then continuing.\")\n",
    "            df = pd.DataFrame(rows)\n",
    "            df.to_csv(f'data/output/clean_spotify_{num_output_csvs}.csv', index=False)\n",
    "            time.sleep(600)\n",
    "            break\n",
    "            \n",
    "        num_albums += 1\n",
    "        album_pop = album['popularity']\n",
    "        comparative_pop = track_pop - (((album_pop * track_count) - track_pop) / (track_count - 1))\n",
    "        \n",
    "        # Get the audio features\n",
    "        features = sp.audio_features(track_id)[0]\n",
    "        danceability = features['danceability']\n",
    "        energy = features['energy']\n",
    "        loudness = features['loudness']\n",
    "        speechiness = features['speechiness']\n",
    "        acousticness = features['acousticness']\n",
    "        instrumentalness = features['instrumentalness']\n",
    "        liveness = features['liveness']\n",
    "        valence = features['valence']\n",
    "        tempo = features['tempo']\n",
    "        \n",
    "        # List the features\n",
    "        relevant_features = [track_id, album_id, track_number, track_count, duration, explicit, track_pop, \n",
    "                             album_pop, comparative_pop, danceability, energy, loudness, speechiness, \n",
    "                             acousticness, instrumentalness, liveness, valence, tempo]\n",
    "        rows.append(dict(zip(columns, relevant_features)))\n",
    "        \n",
    "        if num_tracks % track_csv_limit == 0:\n",
    "            df = pd.DataFrame(rows)\n",
    "            df.to_csv(f'data/output/clean_spotify_{num_output_csvs}.csv', index=False)\n",
    "            \n",
    "            num_output_csvs += 1\n",
    "            rows = []\n",
    "            \n",
    "    print(f\"In the data collection from songs/{csv_id}.csv, the following are the statistics:\")\n",
    "    print(f\"{num_tracks} were written. {num_albums} were written.\")\n",
    "    print(f\"There were {num_failed_track_calls} failed calls to the API for tracks.\")\n",
    "    print(f\"There were {num_failed_album_calls} failed calls to the API for albums.\")"
   ]
  },
  {
   "cell_type": "code",
   "execution_count": 34,
   "metadata": {},
   "outputs": [],
   "source": [
    "num_output_csvs += 1"
   ]
  },
  {
   "cell_type": "code",
   "execution_count": 33,
   "metadata": {},
   "outputs": [],
   "source": [
    "df = pd.DataFrame(rows)\n",
    "df.to_csv(f'data/output/clean_spotify_{num_output_csvs}.csv', index=False)"
   ]
  },
  {
   "cell_type": "code",
   "execution_count": 26,
   "metadata": {},
   "outputs": [
    {
     "data": {
      "text/plain": [
       "867"
      ]
     },
     "execution_count": 26,
     "metadata": {},
     "output_type": "execute_result"
    }
   ],
   "source": [
    "len(visited_tracks)"
   ]
  },
  {
   "cell_type": "code",
   "execution_count": 27,
   "metadata": {},
   "outputs": [
    {
     "data": {
      "text/plain": [
       "782"
      ]
     },
     "execution_count": 27,
     "metadata": {},
     "output_type": "execute_result"
    }
   ],
   "source": [
    "len(rows)"
   ]
  },
  {
   "cell_type": "code",
   "execution_count": 28,
   "metadata": {},
   "outputs": [
    {
     "data": {
      "text/plain": [
       "'spotify:track:4tCtwWceOPWzenK2HAIJSb'"
      ]
     },
     "execution_count": 28,
     "metadata": {},
     "output_type": "execute_result"
    }
   ],
   "source": [
    "uri"
   ]
  },
  {
   "cell_type": "code",
   "execution_count": null,
   "metadata": {},
   "outputs": [],
   "source": []
  }
 ],
 "metadata": {
  "kernelspec": {
   "display_name": "Python 3",
   "language": "python",
   "name": "python3"
  },
  "language_info": {
   "codemirror_mode": {
    "name": "ipython",
    "version": 3
   },
   "file_extension": ".py",
   "mimetype": "text/x-python",
   "name": "python",
   "nbconvert_exporter": "python",
   "pygments_lexer": "ipython3",
   "version": "3.7.4"
  }
 },
 "nbformat": 4,
 "nbformat_minor": 4
}
