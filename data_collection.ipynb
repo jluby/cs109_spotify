{
 "cells": [
  {
   "cell_type": "markdown",
   "metadata": {},
   "source": [
    "## Spotify Song-Album Popularity\n",
    "\n",
    "This is a CS109A project to build a model to predict whether a song will be the most popular one on its album. This notebook allows for the collection of the data."
   ]
  },
  {
   "cell_type": "code",
   "execution_count": 2,
   "metadata": {},
   "outputs": [],
   "source": [
    "import spotipy\n",
    "from spotipy.oauth2 import SpotifyClientCredentials\n",
    "import json\n",
    "import pandas as pd\n",
    "import time\n",
    "from tqdm import trange, tqdm_notebook"
   ]
  },
  {
   "cell_type": "code",
   "execution_count": 3,
   "metadata": {},
   "outputs": [],
   "source": [
    "credentials = json.load(open('credentials.json'))\n",
    "client_id = credentials['client_id']\n",
    "client_secret = credentials['client_secret']"
   ]
  },
  {
   "cell_type": "code",
   "execution_count": 4,
   "metadata": {},
   "outputs": [],
   "source": [
    "client_credentials_manager = SpotifyClientCredentials(\n",
    "    client_id=client_id,\n",
    "    client_secret=client_secret)\n",
    "sp = spotipy.Spotify(client_credentials_manager=client_credentials_manager)"
   ]
  },
  {
   "cell_type": "markdown",
   "metadata": {},
   "source": [
    "### Gather The Data From The API"
   ]
  },
  {
   "cell_type": "code",
   "execution_count": 5,
   "metadata": {},
   "outputs": [],
   "source": [
    "columns = ['track_id', \n",
    "           'album_id', \n",
    "           'track_number', \n",
    "           'track_count', \n",
    "           'duration', \n",
    "           'explicit', \n",
    "           'track_pop', \n",
    "           'album_pop', \n",
    "           'comparative_pop', \n",
    "           'danceability', \n",
    "           'energy', \n",
    "           'loudness', \n",
    "           'speechiness', \n",
    "           'acousticness', \n",
    "           'instrumentalness', \n",
    "           'liveness', \n",
    "           'valence', \n",
    "           'tempo']"
   ]
  },
  {
   "cell_type": "code",
   "execution_count": 6,
   "metadata": {},
   "outputs": [],
   "source": [
    "# Set up statistics on logistics\n",
    "track_csv_limit = 10000\n",
    "num_output_csvs = 0\n",
    "num_tracks = 0\n",
    "num_albums = 0\n",
    "num_failed_track_calls = 0\n",
    "num_failed_album_calls = 0\n",
    "num_failed_audio_features = 0\n",
    "num_invalid_track_ids = 0\n",
    "num_invalid_album_ids = 0\n",
    "\n",
    "# Set up the track set to avoid duplicates\n",
    "visited_tracks = set()"
   ]
  },
  {
   "cell_type": "code",
   "execution_count": 7,
   "metadata": {},
   "outputs": [],
   "source": [
    "error_offset = 0\n",
    "error_sum = 0"
   ]
  },
  {
   "cell_type": "code",
   "execution_count": null,
   "metadata": {},
   "outputs": [
    {
     "data": {
      "application/vnd.jupyter.widget-view+json": {
       "model_id": "465ea4fb13db4e92906e435dae25673a",
       "version_major": 2,
       "version_minor": 0
      },
      "text/plain": [
       "HBox(children=(IntProgress(value=0, description='csv progress', max=330, style=ProgressStyle(description_width…"
      ]
     },
     "metadata": {},
     "output_type": "display_data"
    },
    {
     "data": {
      "application/vnd.jupyter.widget-view+json": {
       "model_id": "b2d4b4dcf0b54063bce7be74e9ea4381",
       "version_major": 2,
       "version_minor": 0
      },
      "text/plain": [
       "HBox(children=(IntProgress(value=0, description='uri progress for songs3', max=66512, style=ProgressStyle(desc…"
      ]
     },
     "metadata": {},
     "output_type": "display_data"
    }
   ],
   "source": [
    "rows = []\n",
    "for csv_id in tqdm_notebook(range(3,333), desc=\"csv progress\"):\n",
    "    csv = pd.read_csv(f'data/Songs/songs{csv_id}.csv')\n",
    "    for uri in tqdm_notebook(csv[\"track_uri\"], desc=f\"uri progress for songs{csv_id}\"):\n",
    "        # Check if the track has already been visited:\n",
    "        if uri in visited_tracks:\n",
    "            continue\n",
    "        else:\n",
    "            visited_tracks.add(uri)\n",
    "            \n",
    "        # Extract the track object\n",
    "        # If the API fails, iteratively pause for 10 seconds and try again\n",
    "        sleep_timer = 10\n",
    "        while True:\n",
    "            try:\n",
    "                track_object = sp.track(uri)\n",
    "                break\n",
    "            except:\n",
    "                num_failed_track_calls += 1\n",
    "                sleep_timer += 10\n",
    "                time.sleep(sleep_timer)\n",
    "            if sleep_timer > 120:\n",
    "                break\n",
    "        if sleep_timer > 120:\n",
    "            num_output_csvs += 1\n",
    "            print(\"Slept for over 2 minutes and still being limited.\")\n",
    "            print(\"Saving the data, sleeping for 10 minutes, then continuing.\")\n",
    "            df = pd.DataFrame(rows)\n",
    "            df.to_csv(f'data/output/clean_spotify_{num_output_csvs}.csv', index=False)\n",
    "            time.sleep(600)\n",
    "            break\n",
    "\n",
    "        # Check if the track is a single\n",
    "        if track_object['album']['album_type'] == 'single':\n",
    "            continue\n",
    "        \n",
    "        num_tracks += 1\n",
    "        # Get the track features\n",
    "        track_id = track_object['id']\n",
    "        album_id = track_object['album']['id']\n",
    "        track_count = track_object['album']['total_tracks']\n",
    "        \n",
    "        # Skip albums and compilations with one track\n",
    "        if track_count == 1:\n",
    "            continue\n",
    "\n",
    "        duration = track_object['duration_ms']\n",
    "        explicit = track_object['explicit']\n",
    "        track_pop = track_object['popularity']\n",
    "        track_number = track_object['track_number']\n",
    "        \n",
    "        # Get the album features\n",
    "        # If the API fails, iteratively pause for 10 seconds and try again\n",
    "        sleep_timer = 10\n",
    "        while True:\n",
    "            try:\n",
    "                album = sp.album(album_id)\n",
    "                break\n",
    "            except:\n",
    "                num_failed_album_calls += 1\n",
    "                sleep_timer += 10\n",
    "                time.sleep(sleep_timer)\n",
    "            if sleep_timer > 120:\n",
    "                break\n",
    "\n",
    "        if sleep_timer > 120:\n",
    "            num_output_csvs += 1\n",
    "            print(\"Slept for over 2 minutes and still being limited.\")\n",
    "            print(\"Saving the data, sleeping for 10 minutes, then continuing.\")\n",
    "            df = pd.DataFrame(rows)\n",
    "            df.to_csv(f'data/output/clean_spotify_{num_output_csvs}.csv', index=False)\n",
    "            time.sleep(600)\n",
    "            break\n",
    "            \n",
    "        num_albums += 1\n",
    "        album_pop = album['popularity']\n",
    "\n",
    "        comparative_pop = track_pop - (((album_pop * track_count) - track_pop) / (track_count - 1))\n",
    "        \n",
    "        # Get the audio features\n",
    "        sleep_timer = 10\n",
    "        while True:\n",
    "            try:\n",
    "                features = sp.audio_features(track_id)[0]\n",
    "                break\n",
    "            except:\n",
    "                num_failed_audio_features += 1\n",
    "                sleep_timer += 10\n",
    "                time.sleep(sleep_timer)\n",
    "            if sleep_timer > 120:\n",
    "                break\n",
    "\n",
    "        if sleep_timer > 120:\n",
    "            num_output_csvs += 1\n",
    "            print(\"Slept for over 2 minutes and still being limited.\")\n",
    "            print(\"Saving the data, sleeping for 10 minutes, then continuing.\")\n",
    "            df = pd.DataFrame(rows)\n",
    "            df.to_csv(f'data/output/clean_spotify_{num_output_csvs}.csv', index=False)\n",
    "            time.sleep(600)\n",
    "            break\n",
    "\n",
    "        danceability = features['danceability']\n",
    "        energy = features['energy']\n",
    "        loudness = features['loudness']\n",
    "        speechiness = features['speechiness']\n",
    "        acousticness = features['acousticness']\n",
    "        instrumentalness = features['instrumentalness']\n",
    "        liveness = features['liveness']\n",
    "        valence = features['valence']\n",
    "        tempo = features['tempo']\n",
    "        \n",
    "        # List the features\n",
    "        relevant_features = [track_id, album_id, track_number, track_count, duration, explicit, track_pop, \n",
    "                             album_pop, comparative_pop, danceability, energy, loudness, speechiness, \n",
    "                             acousticness, instrumentalness, liveness, valence, tempo]\n",
    "        rows.append(dict(zip(columns, relevant_features)))\n",
    "        \n",
    "        if num_tracks % track_csv_limit == 0:\n",
    "            df = pd.DataFrame(rows)\n",
    "            df.to_csv(f'data/output/clean_spotify_{num_output_csvs}.csv', index=False)\n",
    "            print(f\"clean_spotify_{num_output_csvs}.csv succesfully made.\")\n",
    "            \n",
    "            num_output_csvs += 1\n",
    "            rows = []\n",
    "            \n",
    "    print(f\"Up to the data collection from songs/{csv_id}.csv, the following are the statistics:\")\n",
    "    print(f\"{num_tracks} were written. {num_albums} were written.\")\n",
    "    print(f\"There were {num_failed_track_calls} failed calls to the API for tracks.\")\n",
    "    print(f\"There were {num_failed_album_calls} failed calls to the API for albums.\")\n",
    "    print(f\"There were {num_invalid_track_ids} invalid track IDs.\")\n",
    "    print(f\"There were {num_invalid_album_ids} invalid album IDs.\")"
   ]
  },
  {
   "cell_type": "code",
   "execution_count": null,
   "metadata": {},
   "outputs": [],
   "source": []
  }
 ],
 "metadata": {
  "kernelspec": {
   "display_name": "Python 3",
   "language": "python",
   "name": "python3"
  },
  "language_info": {
   "codemirror_mode": {
    "name": "ipython",
    "version": 3
   },
   "file_extension": ".py",
   "mimetype": "text/x-python",
   "name": "python",
   "nbconvert_exporter": "python",
   "pygments_lexer": "ipython3",
   "version": "3.7.4"
  }
 },
 "nbformat": 4,
 "nbformat_minor": 4
}
